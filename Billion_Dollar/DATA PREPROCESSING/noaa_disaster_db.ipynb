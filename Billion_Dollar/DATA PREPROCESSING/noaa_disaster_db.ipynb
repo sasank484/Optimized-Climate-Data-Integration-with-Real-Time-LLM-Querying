{
  "nbformat": 4,
  "nbformat_minor": 0,
  "metadata": {
    "colab": {
      "provenance": []
    },
    "kernelspec": {
      "name": "python3",
      "display_name": "Python 3"
    },
    "language_info": {
      "name": "python"
    }
  },
  "cells": [
    {
      "cell_type": "code",
      "execution_count": null,
      "metadata": {
        "id": "sNxPJSV3NCT9"
      },
      "outputs": [],
      "source": [
        "import pandas as pd\n",
        "\n",
        "# Load the dataset\n",
        "file_path = \"/content/time-series-US-cost-per-capita-1980-2024.xlsx\"  # Replace with your actual file path\n",
        "df = pd.read_excel(file_path)\n",
        "\n"
      ]
    },
    {
      "cell_type": "code",
      "source": [
        "# Drop duplicate rows if any\n",
        "df = df.drop_duplicates()"
      ],
      "metadata": {
        "id": "_rYCj1ECNHaT"
      },
      "execution_count": null,
      "outputs": []
    },
    {
      "cell_type": "code",
      "source": [
        "# Handle missing values (fill with 0 or drop, depending on use case)\n",
        "df = df.fillna(0)"
      ],
      "metadata": {
        "id": "CnxKGEYJNJKx"
      },
      "execution_count": null,
      "outputs": []
    },
    {
      "cell_type": "code",
      "source": [
        "# Convert Year column to integer (if not already)\n",
        "df[\"Year\"] = df[\"Year\"].astype(int)"
      ],
      "metadata": {
        "id": "mqISwuoONLQm"
      },
      "execution_count": null,
      "outputs": []
    },
    {
      "cell_type": "code",
      "source": [
        "# Ensure cost columns are in float format (if needed)\n",
        "cost_columns = [col for col in df.columns if \"Cost\" in col]\n",
        "df[cost_columns] = df[cost_columns].astype(float)"
      ],
      "metadata": {
        "id": "1CaVtVoJNM-h"
      },
      "execution_count": null,
      "outputs": []
    },
    {
      "cell_type": "code",
      "source": [
        "# Rename columns for consistency (if needed)\n",
        "df.rename(columns={\"All Disasters Count\": \"Total_Disaster_Count\", \"All Disasters Cost\": \"Total_Disaster_Cost\"}, inplace=True)\n",
        "df.columns = df.columns.str.replace(\" \", \"_\")\n",
        "\n",
        "print(df.head())\n"
      ],
      "metadata": {
        "id": "NhbtkdC0NPRU",
        "colab": {
          "base_uri": "https://localhost:8080/"
        },
        "outputId": "44d04830-6369-4d07-e11c-320ca24bcc5c"
      },
      "execution_count": null,
      "outputs": [
        {
          "output_type": "stream",
          "name": "stdout",
          "text": [
            "   Year  Drought_Count  Drought_Cost  Flooding_Count  Flooding_Cost  \\\n",
            "0  1980              1         177.1               1           11.7   \n",
            "1  1981              0           0.0               0            0.0   \n",
            "2  1982              0           0.0               0            0.0   \n",
            "3  1983              1          40.6               3           46.5   \n",
            "4  1984              0           0.0               0            0.0   \n",
            "\n",
            "   Freeze_Count  Freeze_Cost  Severe_Storm_Count  Severe_Storm_Cost  \\\n",
            "0             0          0.0                   0                0.0   \n",
            "1             1          9.0                   1                6.0   \n",
            "2             0          0.0                   2               13.7   \n",
            "3             1         27.5                   0                0.0   \n",
            "4             0          0.0                   2               13.8   \n",
            "\n",
            "   Tropical_Cyclone_Count  Tropical_Cyclone_Cost  Wildfire_Count  \\\n",
            "0                       1                    9.6               0   \n",
            "1                       0                    0.0               0   \n",
            "2                       0                    0.0               0   \n",
            "3                       1                   40.2               0   \n",
            "4                       0                    0.0               0   \n",
            "\n",
            "   Wildfire_Cost  Winter_Storm_Count  Winter_Storm_Cost  Total_Disaster_Count  \\\n",
            "0            0.0                   0                0.0                     3   \n",
            "1            0.0                   0                0.0                     2   \n",
            "2            0.0                   1                9.4                     3   \n",
            "3            0.0                   0                0.0                     6   \n",
            "4            0.0                   0                0.0                     2   \n",
            "\n",
            "   Total_Disaster_Cost  \n",
            "0                198.4  \n",
            "1                 15.1  \n",
            "2                 23.0  \n",
            "3                154.7  \n",
            "4                 13.8  \n"
          ]
        }
      ]
    },
    {
      "cell_type": "code",
      "source": [
        "import sqlite3\n",
        "\n",
        "db_path = \"disaster_data.db\"\n",
        "conn = sqlite3.connect(db_path)\n",
        "\n",
        "# Write DataFrame to SQLite (replace if table already exists)\n",
        "table_name = \"disaster_records\"\n",
        "df.to_sql(table_name, conn, if_exists=\"replace\", index=False)\n",
        "\n",
        "# Verify: Read back from database\n",
        "df_check = pd.read_sql(f\"SELECT * FROM {table_name} LIMIT 5;\", conn)\n",
        "print(df_check)\n",
        "\n",
        "print(f\"Database created successfully: {db_path}\")"
      ],
      "metadata": {
        "colab": {
          "base_uri": "https://localhost:8080/"
        },
        "id": "j1n1cP1tNmMF",
        "outputId": "df07b0f2-b830-4d19-b04f-db7c1f9c147e"
      },
      "execution_count": null,
      "outputs": [
        {
          "output_type": "stream",
          "name": "stdout",
          "text": [
            "   Year  Drought_Count  Drought_Cost  Flooding_Count  Flooding_Cost  \\\n",
            "0  1980              1         177.1               1           11.7   \n",
            "1  1981              0           0.0               0            0.0   \n",
            "2  1982              0           0.0               0            0.0   \n",
            "3  1983              1          40.6               3           46.5   \n",
            "4  1984              0           0.0               0            0.0   \n",
            "\n",
            "   Freeze_Count  Freeze_Cost  Severe_Storm_Count  Severe_Storm_Cost  \\\n",
            "0             0          0.0                   0                0.0   \n",
            "1             1          9.0                   1                6.0   \n",
            "2             0          0.0                   2               13.7   \n",
            "3             1         27.5                   0                0.0   \n",
            "4             0          0.0                   2               13.8   \n",
            "\n",
            "   Tropical_Cyclone_Count  Tropical_Cyclone_Cost  Wildfire_Count  \\\n",
            "0                       1                    9.6               0   \n",
            "1                       0                    0.0               0   \n",
            "2                       0                    0.0               0   \n",
            "3                       1                   40.2               0   \n",
            "4                       0                    0.0               0   \n",
            "\n",
            "   Wildfire_Cost  Winter_Storm_Count  Winter_Storm_Cost  Total_Disaster_Count  \\\n",
            "0            0.0                   0                0.0                     3   \n",
            "1            0.0                   0                0.0                     2   \n",
            "2            0.0                   1                9.4                     3   \n",
            "3            0.0                   0                0.0                     6   \n",
            "4            0.0                   0                0.0                     2   \n",
            "\n",
            "   Total_Disaster_Cost  \n",
            "0                198.4  \n",
            "1                 15.1  \n",
            "2                 23.0  \n",
            "3                154.7  \n",
            "4                 13.8  \n",
            "Database created successfully: disaster_data.db\n"
          ]
        }
      ]
    },
    {
      "cell_type": "code",
      "source": [
        "conn = sqlite3.connect(\"/content/disaster_data.db\")\n",
        "\n",
        "# List all tables in the database\n",
        "tables = pd.read_sql(\"SELECT name FROM sqlite_master WHERE type='table';\", conn)\n",
        "\n",
        "\n",
        "print(tables)"
      ],
      "metadata": {
        "colab": {
          "base_uri": "https://localhost:8080/"
        },
        "id": "_uv5VHt9QNPl",
        "outputId": "ba0faae3-cba9-4dcc-d783-5bf90d288d70"
      },
      "execution_count": null,
      "outputs": [
        {
          "output_type": "stream",
          "name": "stdout",
          "text": [
            "               name\n",
            "0  disaster_records\n"
          ]
        }
      ]
    },
    {
      "cell_type": "code",
      "source": [
        "conn = sqlite3.connect(db_path)\n",
        "df_check = pd.read_sql(\"SELECT * FROM disaster_records LIMIT 5;\", conn)\n",
        "print(df_check)\n"
      ],
      "metadata": {
        "colab": {
          "base_uri": "https://localhost:8080/"
        },
        "id": "C68vvr5ARlOM",
        "outputId": "5d254967-5203-4b5e-de85-fc6690edcdd0"
      },
      "execution_count": null,
      "outputs": [
        {
          "output_type": "stream",
          "name": "stdout",
          "text": [
            "   Year  Drought_Count  Drought_Cost  Flooding_Count  Flooding_Cost  \\\n",
            "0  1980              1         177.1               1           11.7   \n",
            "1  1981              0           0.0               0            0.0   \n",
            "2  1982              0           0.0               0            0.0   \n",
            "3  1983              1          40.6               3           46.5   \n",
            "4  1984              0           0.0               0            0.0   \n",
            "\n",
            "   Freeze_Count  Freeze_Cost  Severe_Storm_Count  Severe_Storm_Cost  \\\n",
            "0             0          0.0                   0                0.0   \n",
            "1             1          9.0                   1                6.0   \n",
            "2             0          0.0                   2               13.7   \n",
            "3             1         27.5                   0                0.0   \n",
            "4             0          0.0                   2               13.8   \n",
            "\n",
            "   Tropical_Cyclone_Count  Tropical_Cyclone_Cost  Wildfire_Count  \\\n",
            "0                       1                    9.6               0   \n",
            "1                       0                    0.0               0   \n",
            "2                       0                    0.0               0   \n",
            "3                       1                   40.2               0   \n",
            "4                       0                    0.0               0   \n",
            "\n",
            "   Wildfire_Cost  Winter_Storm_Count  Winter_Storm_Cost  Total_Disaster_Count  \\\n",
            "0            0.0                   0                0.0                     3   \n",
            "1            0.0                   0                0.0                     2   \n",
            "2            0.0                   1                9.4                     3   \n",
            "3            0.0                   0                0.0                     6   \n",
            "4            0.0                   0                0.0                     2   \n",
            "\n",
            "   Total_Disaster_Cost  \n",
            "0                198.4  \n",
            "1                 15.1  \n",
            "2                 23.0  \n",
            "3                154.7  \n",
            "4                 13.8  \n"
          ]
        }
      ]
    },
    {
      "cell_type": "code",
      "source": [
        "query = \"\"\"\n",
        "SELECT SUM(Total_Disaster_Count) AS TDisaster_Count,\n",
        "       SUM(Total_Disaster_Cost) AS TDisaster_Cost\n",
        "FROM disaster_records\n",
        "WHERE Year = 2016;\n",
        "\"\"\"\n",
        "\n",
        "# Execute the query\n",
        "result = pd.read_sql(query, conn)"
      ],
      "metadata": {
        "id": "TGFm_9QuRmrW"
      },
      "execution_count": null,
      "outputs": []
    },
    {
      "cell_type": "code",
      "source": [
        "print(result)"
      ],
      "metadata": {
        "colab": {
          "base_uri": "https://localhost:8080/"
        },
        "id": "sRp2RSogTfqI",
        "outputId": "d8c90989-ca85-4274-8a38-7c64fdc9baaf"
      },
      "execution_count": null,
      "outputs": [
        {
          "output_type": "stream",
          "name": "stdout",
          "text": [
            "   TDisaster_Count  TDisaster_Cost\n",
            "0               15           187.7\n"
          ]
        }
      ]
    },
    {
      "cell_type": "code",
      "source": [],
      "metadata": {
        "id": "SsckuqhLTlcp"
      },
      "execution_count": null,
      "outputs": []
    }
  ]
}