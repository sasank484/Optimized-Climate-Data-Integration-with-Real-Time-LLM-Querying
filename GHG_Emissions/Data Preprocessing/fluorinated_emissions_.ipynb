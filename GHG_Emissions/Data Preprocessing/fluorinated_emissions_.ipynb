{
  "nbformat": 4,
  "nbformat_minor": 0,
  "metadata": {
    "colab": {
      "provenance": []
    },
    "kernelspec": {
      "name": "python3",
      "display_name": "Python 3"
    },
    "language_info": {
      "name": "python"
    }
  },
  "cells": [
    {
      "cell_type": "code",
      "execution_count": null,
      "metadata": {
        "colab": {
          "base_uri": "https://localhost:8080/"
        },
        "id": "qrZERP9csgCp",
        "outputId": "c3cd7cad-601a-4e7b-aaa1-31584e2da44c"
      },
      "outputs": [
        {
          "output_type": "stream",
          "name": "stdout",
          "text": [
            "Index([     'IPCC_annex', 'Country_code_A3',            'Name',\n",
            "             'Substance',              1990,              1991,\n",
            "                    1992,              1993,              1994,\n",
            "                    1995,              1996,              1997,\n",
            "                    1998,              1999,              2000,\n",
            "                    2001,              2002,              2003,\n",
            "                    2004,              2005,              2006,\n",
            "                    2007,              2008,              2009,\n",
            "                    2010,              2011,              2012,\n",
            "                    2013,              2014,              2015,\n",
            "                    2016,              2017,              2018,\n",
            "                    2019,              2020,              2021,\n",
            "                    2022,              2023],\n",
            "      dtype='object')\n"
          ]
        }
      ],
      "source": [
        "import pandas as pd\n",
        "import sqlite3\n",
        "\n",
        "# Load the file\n",
        "file_path = \"/content/Flourinated Emissions 1990-2023.xlsx\"\n",
        "df = pd.read_excel(file_path)\n",
        "\n",
        "# Display column names\n",
        "print(df.columns)\n"
      ]
    },
    {
      "cell_type": "code",
      "source": [
        "# Drop duplicate rows\n",
        "df = df.drop_duplicates()\n",
        "\n",
        "# Fill missing values with 0\n",
        "df = df.fillna(0)\n",
        "\n",
        "# Ensure all year columns are numeric\n",
        "year_columns = [col for col in df.columns if isinstance(col, int)]\n",
        "df[year_columns] = df[year_columns].apply(pd.to_numeric, errors='coerce')\n",
        "\n",
        "# Convert country names to title case for consistency\n",
        "df[\"Name\"] = df[\"Name\"].str.title()\n",
        "\n",
        "# Print first few rows after preprocessing\n",
        "print(df.head())"
      ],
      "metadata": {
        "colab": {
          "base_uri": "https://localhost:8080/"
        },
        "id": "a2TSw0hPyE7I",
        "outputId": "081613d1-7d7c-420b-f684-1276c648403c"
      },
      "execution_count": null,
      "outputs": [
        {
          "output_type": "stream",
          "name": "stdout",
          "text": [
            "    IPCC_annex Country_code_A3         Name  Substance      1990      1991  \\\n",
            "0  Non-Annex_I             AFG  Afghanistan    HFC-125  0.000000  0.000000   \n",
            "1  Non-Annex_I             AFG  Afghanistan   HFC-134a  0.000128  0.000516   \n",
            "2  Non-Annex_I             AFG  Afghanistan   HFC-143a  0.000000  0.000000   \n",
            "3  Non-Annex_I             AFG  Afghanistan   HFC-152a  0.000029  0.003176   \n",
            "4  Non-Annex_I             AFG  Afghanistan  HFC-227ea  0.000000  0.000000   \n",
            "\n",
            "       1992      1993      1994      1995  ...      2014      2015      2016  \\\n",
            "0  0.000000  0.000000  0.000000  0.000000  ...  0.023668  0.024705  0.027389   \n",
            "1  0.000687  0.000856  0.002903  0.004950  ...  0.116167  0.138558  0.162637   \n",
            "2  0.000000  0.000095  0.000239  0.000556  ...  0.017690  0.018219  0.021263   \n",
            "3  0.006245  0.009147  0.012612  0.016040  ...  0.058439  0.058180  0.058061   \n",
            "4  0.000000  0.000000  0.000000  0.000037  ...  0.005044  0.005236  0.005475   \n",
            "\n",
            "       2017      2018      2019      2020      2021      2022      2023  \n",
            "0  0.029934  0.032883  0.035609  0.038349  0.041154  0.043911  0.046679  \n",
            "1  0.183270  0.209579  0.233253  0.256792  0.281299  0.305206  0.329190  \n",
            "2  0.024838  0.029237  0.032910  0.036792  0.040777  0.044623  0.048528  \n",
            "3  0.062033  0.064863  0.067090  0.070100  0.072789  0.075432  0.078212  \n",
            "4  0.005656  0.005930  0.006162  0.006391  0.006636  0.006871  0.007107  \n",
            "\n",
            "[5 rows x 38 columns]\n"
          ]
        }
      ]
    },
    {
      "cell_type": "code",
      "source": [
        "conn = sqlite3.connect(\"Flourinated_gas_emissions.db\")\n",
        "\n",
        "# Save DataFrame to SQLite table\n",
        "df.to_sql(\"emissions\", conn, if_exists=\"replace\", index=False)\n",
        "print(\"Data successfully inserted into SQLite database.\")"
      ],
      "metadata": {
        "colab": {
          "base_uri": "https://localhost:8080/"
        },
        "id": "gND6lQNKyLKU",
        "outputId": "84b7716a-6dbe-48d5-b8ea-7670ae6aa275"
      },
      "execution_count": null,
      "outputs": [
        {
          "output_type": "stream",
          "name": "stdout",
          "text": [
            "Data successfully inserted into SQLite database.\n"
          ]
        }
      ]
    },
    {
      "cell_type": "code",
      "source": [
        "cursor = conn.cursor()\n",
        "\n",
        "query = \"SELECT Name,Substance, `2019` FROM emissions WHERE Name IN ('India') ;\"\n",
        "cursor.execute(query)\n",
        "\n",
        "# Fetch and display the result\n",
        "print(cursor.fetchall())"
      ],
      "metadata": {
        "colab": {
          "base_uri": "https://localhost:8080/"
        },
        "id": "-lTtCKQkySfT",
        "outputId": "f7884312-fd3b-4d81-9667-d35ba1e75693"
      },
      "execution_count": null,
      "outputs": [
        {
          "output_type": "stream",
          "name": "stdout",
          "text": [
            "[('India', 'C2F6', 0.0089665145248418), ('India', 'C3F8', 1.9e-05), ('India', 'C4F10', 3.0205e-05), ('India', 'CF4', 0.10392738422579), ('India', 'HFC-125', 8.098861789), ('India', 'HFC-134a', 10.376666668), ('India', 'HFC-143a', 1.012357724), ('India', 'HFC-152a', 1.5852631576667), ('India', 'HFC-227ea', 0.62037619466667), ('India', 'HFC-23', 0.0), ('India', 'SF6', 0.33149666666667)]\n"
          ]
        }
      ]
    }
  ]
}