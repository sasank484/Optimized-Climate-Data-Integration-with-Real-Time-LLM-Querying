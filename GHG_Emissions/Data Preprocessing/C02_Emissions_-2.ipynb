{
  "nbformat": 4,
  "nbformat_minor": 0,
  "metadata": {
    "colab": {
      "provenance": []
    },
    "kernelspec": {
      "name": "python3",
      "display_name": "Python 3"
    },
    "language_info": {
      "name": "python"
    }
  },
  "cells": [
    {
      "cell_type": "code",
      "source": [
        "import pandas as pd\n",
        "\n",
        "file_path = \"/content/CO2 EMISSIONS_COUNTRY 1970-2023.xlsx\"\n",
        "df = pd.read_excel(file_path)"
      ],
      "metadata": {
        "id": "H7l-WtE3G10Y"
      },
      "execution_count": null,
      "outputs": []
    },
    {
      "cell_type": "code",
      "source": [
        "print(\" Original Data (First 5 rows):\")\n",
        "print(df.head())\n"
      ],
      "metadata": {
        "colab": {
          "base_uri": "https://localhost:8080/"
        },
        "id": "IaSkrSdvIYBb",
        "outputId": "1075e6de-e8da-4a2c-fcfa-c4810e65192c"
      },
      "execution_count": null,
      "outputs": [
        {
          "output_type": "stream",
          "name": "stdout",
          "text": [
            " Original Data (First 5 rows):\n",
            "      IPCC_annex Country_code_A3           Name Substance         Y_1970  \\\n",
            "0    Non-Annex_I             ABW          Aruba       CO2      25.213789   \n",
            "1    Non-Annex_I             AFG    Afghanistan       CO2    1733.920270   \n",
            "2    Non-Annex_I             AGO         Angola       CO2    8933.899038   \n",
            "3    Non-Annex_I             AIA       Anguilla       CO2       2.177587   \n",
            "4  Int. Aviation             AIR  Int. Aviation       CO2  169900.398512   \n",
            "\n",
            "          Y_1971         Y_1972         Y_1973         Y_1974         Y_1975  \\\n",
            "0      28.827752      39.472108      44.289439      43.469148      57.396273   \n",
            "1    1733.709906    1693.584478    1733.904787    2190.318066    2028.966850   \n",
            "2    8519.512895   10366.104268   11346.995664   11806.560821   10904.652964   \n",
            "3       2.177689       2.273190       2.118480       2.359836       2.593654   \n",
            "4  169900.398512  179759.531088  187494.406315  180478.128954  174582.470528   \n",
            "\n",
            "   ...         Y_2014         Y_2015         Y_2016         Y_2017  \\\n",
            "0  ...     440.689215     462.025593     484.888607     466.591612   \n",
            "1  ...    7825.740854    8346.520776    7527.593714    8066.138489   \n",
            "2  ...   30887.263663   33097.498918   31285.802719   27942.098858   \n",
            "3  ...      27.917050      28.026636      28.362580      29.086622   \n",
            "4  ...  507505.760784  536213.680453  560173.838890  589919.315334   \n",
            "\n",
            "          Y_2018         Y_2019         Y_2020         Y_2021         Y_2022  \\\n",
            "0     465.881209     557.917266     452.553064     500.635247     502.693255   \n",
            "1    7932.004694    7249.068567    7054.132973    7930.781033    8259.915260   \n",
            "2   26258.886522   27573.216012   20710.917670   25262.831793   27353.038121   \n",
            "3      28.247295      27.604422      22.803655      22.017827      21.861340   \n",
            "4  615937.542272  625141.435256  298655.677617  331317.424680  411474.866135   \n",
            "\n",
            "          Y_2023  \n",
            "0     530.026098  \n",
            "1    8707.349830  \n",
            "2   28229.927610  \n",
            "3      22.955546  \n",
            "4  491632.307590  \n",
            "\n",
            "[5 rows x 58 columns]\n"
          ]
        }
      ]
    },
    {
      "cell_type": "code",
      "source": [
        "# Identify & Remove Duplicate Rows\n",
        "duplicate_count = df.duplicated().sum()\n",
        "print(f\"\\n Number of duplicate rows before dropping: {duplicate_count}\")\n",
        "df = df.drop_duplicates()\n",
        "print(f\" Number of duplicate rows after dropping: {df.duplicated().sum()}\")"
      ],
      "metadata": {
        "colab": {
          "base_uri": "https://localhost:8080/"
        },
        "id": "ZIMPZCMKIt9X",
        "outputId": "bfec7c8e-afee-4747-e449-257c2e8ed2ff"
      },
      "execution_count": null,
      "outputs": [
        {
          "output_type": "stream",
          "name": "stdout",
          "text": [
            "\n",
            " Number of duplicate rows before dropping: 0\n",
            " Number of duplicate rows after dropping: 0\n"
          ]
        }
      ]
    },
    {
      "cell_type": "code",
      "source": [
        "# Handle Missing Values\n",
        "missing_before = df.isnull().sum().sum()\n",
        "print(f\"\\n Total missing values before filling: {missing_before}\")\n",
        "df = df.fillna(0)\n",
        "missing_after = df.isnull().sum().sum()\n",
        "print(f\" Total missing values after filling: {missing_after}\")"
      ],
      "metadata": {
        "colab": {
          "base_uri": "https://localhost:8080/"
        },
        "id": "EtYQvDZbIzn4",
        "outputId": "f95fa8b3-7054-4134-d67d-3f7c9637df03"
      },
      "execution_count": null,
      "outputs": [
        {
          "output_type": "stream",
          "name": "stdout",
          "text": [
            "\n",
            " Total missing values before filling: 0\n",
            " Total missing values after filling: 0\n"
          ]
        }
      ]
    },
    {
      "cell_type": "code",
      "source": [
        "df = df.rename(columns=lambda x: x[2:] if x.startswith(\"Y_\") else x)"
      ],
      "metadata": {
        "id": "LLdi2EsiNV8e"
      },
      "execution_count": null,
      "outputs": []
    },
    {
      "cell_type": "code",
      "source": [
        "print(df.head())"
      ],
      "metadata": {
        "colab": {
          "base_uri": "https://localhost:8080/"
        },
        "id": "_YkwyiEiNXFE",
        "outputId": "5f098e3b-05b7-498b-d358-51321b81339d"
      },
      "execution_count": null,
      "outputs": [
        {
          "output_type": "stream",
          "name": "stdout",
          "text": [
            "      IPCC_annex Country_code_A3           Name Substance           1970  \\\n",
            "0    Non-Annex_I             ABW          Aruba       CO2      25.213789   \n",
            "1    Non-Annex_I             AFG    Afghanistan       CO2    1733.920270   \n",
            "2    Non-Annex_I             AGO         Angola       CO2    8933.899038   \n",
            "3    Non-Annex_I             AIA       Anguilla       CO2       2.177587   \n",
            "4  Int. Aviation             AIR  Int. Aviation       CO2  169900.398512   \n",
            "\n",
            "            1971           1972           1973           1974           1975  \\\n",
            "0      28.827752      39.472108      44.289439      43.469148      57.396273   \n",
            "1    1733.709906    1693.584478    1733.904787    2190.318066    2028.966850   \n",
            "2    8519.512895   10366.104268   11346.995664   11806.560821   10904.652964   \n",
            "3       2.177689       2.273190       2.118480       2.359836       2.593654   \n",
            "4  169900.398512  179759.531088  187494.406315  180478.128954  174582.470528   \n",
            "\n",
            "   ...           2014           2015           2016           2017  \\\n",
            "0  ...     440.689215     462.025593     484.888607     466.591612   \n",
            "1  ...    7825.740854    8346.520776    7527.593714    8066.138489   \n",
            "2  ...   30887.263663   33097.498918   31285.802719   27942.098858   \n",
            "3  ...      27.917050      28.026636      28.362580      29.086622   \n",
            "4  ...  507505.760784  536213.680453  560173.838890  589919.315334   \n",
            "\n",
            "            2018           2019           2020           2021           2022  \\\n",
            "0     465.881209     557.917266     452.553064     500.635247     502.693255   \n",
            "1    7932.004694    7249.068567    7054.132973    7930.781033    8259.915260   \n",
            "2   26258.886522   27573.216012   20710.917670   25262.831793   27353.038121   \n",
            "3      28.247295      27.604422      22.803655      22.017827      21.861340   \n",
            "4  615937.542272  625141.435256  298655.677617  331317.424680  411474.866135   \n",
            "\n",
            "            2023  \n",
            "0     530.026098  \n",
            "1    8707.349830  \n",
            "2   28229.927610  \n",
            "3      22.955546  \n",
            "4  491632.307590  \n",
            "\n",
            "[5 rows x 58 columns]\n"
          ]
        }
      ]
    },
    {
      "cell_type": "code",
      "source": [
        "print(\"\\n Column data types before conversion:\")\n",
        "print(df.dtypes)\n",
        "for col in df.columns:\n",
        "      if df[col].dtype == 'object':\n",
        "            try:\n",
        "                df[col] = pd.to_numeric(df[col])\n",
        "            except ValueError:\n",
        "                pass\n",
        "print(\"\\n Column data types after conversion:\")\n",
        "print(df.dtypes)"
      ],
      "metadata": {
        "colab": {
          "base_uri": "https://localhost:8080/"
        },
        "id": "3KwuXHM_I7tF",
        "outputId": "0f64de19-067d-4fc1-9c1b-aeb04f4d1dd4"
      },
      "execution_count": null,
      "outputs": [
        {
          "output_type": "stream",
          "name": "stdout",
          "text": [
            "\n",
            " Column data types before conversion:\n",
            "IPCC_annex          object\n",
            "Country_code_A3     object\n",
            "Name                object\n",
            "Substance           object\n",
            "1970               float64\n",
            "1971               float64\n",
            "1972               float64\n",
            "1973               float64\n",
            "1974               float64\n",
            "1975               float64\n",
            "1976               float64\n",
            "1977               float64\n",
            "1978               float64\n",
            "1979               float64\n",
            "1980               float64\n",
            "1981               float64\n",
            "1982               float64\n",
            "1983               float64\n",
            "1984               float64\n",
            "1985               float64\n",
            "1986               float64\n",
            "1987               float64\n",
            "1988               float64\n",
            "1989               float64\n",
            "1990               float64\n",
            "1991               float64\n",
            "1992               float64\n",
            "1993               float64\n",
            "1994               float64\n",
            "1995               float64\n",
            "1996               float64\n",
            "1997               float64\n",
            "1998               float64\n",
            "1999               float64\n",
            "2000               float64\n",
            "2001               float64\n",
            "2002               float64\n",
            "2003               float64\n",
            "2004               float64\n",
            "2005               float64\n",
            "2006               float64\n",
            "2007               float64\n",
            "2008               float64\n",
            "2009               float64\n",
            "2010               float64\n",
            "2011               float64\n",
            "2012               float64\n",
            "2013               float64\n",
            "2014               float64\n",
            "2015               float64\n",
            "2016               float64\n",
            "2017               float64\n",
            "2018               float64\n",
            "2019               float64\n",
            "2020               float64\n",
            "2021               float64\n",
            "2022               float64\n",
            "2023               float64\n",
            "dtype: object\n",
            "\n",
            " Column data types after conversion:\n",
            "IPCC_annex          object\n",
            "Country_code_A3     object\n",
            "Name                object\n",
            "Substance           object\n",
            "1970               float64\n",
            "1971               float64\n",
            "1972               float64\n",
            "1973               float64\n",
            "1974               float64\n",
            "1975               float64\n",
            "1976               float64\n",
            "1977               float64\n",
            "1978               float64\n",
            "1979               float64\n",
            "1980               float64\n",
            "1981               float64\n",
            "1982               float64\n",
            "1983               float64\n",
            "1984               float64\n",
            "1985               float64\n",
            "1986               float64\n",
            "1987               float64\n",
            "1988               float64\n",
            "1989               float64\n",
            "1990               float64\n",
            "1991               float64\n",
            "1992               float64\n",
            "1993               float64\n",
            "1994               float64\n",
            "1995               float64\n",
            "1996               float64\n",
            "1997               float64\n",
            "1998               float64\n",
            "1999               float64\n",
            "2000               float64\n",
            "2001               float64\n",
            "2002               float64\n",
            "2003               float64\n",
            "2004               float64\n",
            "2005               float64\n",
            "2006               float64\n",
            "2007               float64\n",
            "2008               float64\n",
            "2009               float64\n",
            "2010               float64\n",
            "2011               float64\n",
            "2012               float64\n",
            "2013               float64\n",
            "2014               float64\n",
            "2015               float64\n",
            "2016               float64\n",
            "2017               float64\n",
            "2018               float64\n",
            "2019               float64\n",
            "2020               float64\n",
            "2021               float64\n",
            "2022               float64\n",
            "2023               float64\n",
            "dtype: object\n"
          ]
        }
      ]
    },
    {
      "cell_type": "code",
      "source": [
        "print(\"\\n Processed Data (First 5 rows):\")\n",
        "print(df.head())\n"
      ],
      "metadata": {
        "colab": {
          "base_uri": "https://localhost:8080/"
        },
        "id": "ct-4nWq1JCeh",
        "outputId": "ad93ee6e-4d38-4068-c370-91d3504cc87b"
      },
      "execution_count": null,
      "outputs": [
        {
          "output_type": "stream",
          "name": "stdout",
          "text": [
            "\n",
            " Processed Data (First 5 rows):\n",
            "      IPCC_annex Country_code_A3           Name Substance           1970  \\\n",
            "0    Non-Annex_I             ABW          Aruba       CO2      25.213789   \n",
            "1    Non-Annex_I             AFG    Afghanistan       CO2    1733.920270   \n",
            "2    Non-Annex_I             AGO         Angola       CO2    8933.899038   \n",
            "3    Non-Annex_I             AIA       Anguilla       CO2       2.177587   \n",
            "4  Int. Aviation             AIR  Int. Aviation       CO2  169900.398512   \n",
            "\n",
            "            1971           1972           1973           1974           1975  \\\n",
            "0      28.827752      39.472108      44.289439      43.469148      57.396273   \n",
            "1    1733.709906    1693.584478    1733.904787    2190.318066    2028.966850   \n",
            "2    8519.512895   10366.104268   11346.995664   11806.560821   10904.652964   \n",
            "3       2.177689       2.273190       2.118480       2.359836       2.593654   \n",
            "4  169900.398512  179759.531088  187494.406315  180478.128954  174582.470528   \n",
            "\n",
            "   ...           2014           2015           2016           2017  \\\n",
            "0  ...     440.689215     462.025593     484.888607     466.591612   \n",
            "1  ...    7825.740854    8346.520776    7527.593714    8066.138489   \n",
            "2  ...   30887.263663   33097.498918   31285.802719   27942.098858   \n",
            "3  ...      27.917050      28.026636      28.362580      29.086622   \n",
            "4  ...  507505.760784  536213.680453  560173.838890  589919.315334   \n",
            "\n",
            "            2018           2019           2020           2021           2022  \\\n",
            "0     465.881209     557.917266     452.553064     500.635247     502.693255   \n",
            "1    7932.004694    7249.068567    7054.132973    7930.781033    8259.915260   \n",
            "2   26258.886522   27573.216012   20710.917670   25262.831793   27353.038121   \n",
            "3      28.247295      27.604422      22.803655      22.017827      21.861340   \n",
            "4  615937.542272  625141.435256  298655.677617  331317.424680  411474.866135   \n",
            "\n",
            "            2023  \n",
            "0     530.026098  \n",
            "1    8707.349830  \n",
            "2   28229.927610  \n",
            "3      22.955546  \n",
            "4  491632.307590  \n",
            "\n",
            "[5 rows x 58 columns]\n"
          ]
        }
      ]
    },
    {
      "cell_type": "code",
      "source": [
        "import sqlite3\n",
        "import pandas as pd"
      ],
      "metadata": {
        "id": "3XQUfCdZJrdF"
      },
      "execution_count": null,
      "outputs": []
    },
    {
      "cell_type": "code",
      "source": [
        "# Create a connection to SQLite\n",
        "conn = sqlite3.connect(\"co2_emissions.db\")\n",
        "\n",
        "# Save DataFrame to SQLite table\n",
        "df.to_sql(\"emissions\", conn, if_exists=\"replace\", index=False)\n",
        "\n",
        "print(\"Data successfully inserted into SQLite database.\")"
      ],
      "metadata": {
        "colab": {
          "base_uri": "https://localhost:8080/"
        },
        "id": "EdWdV6B_KdAi",
        "outputId": "1d1427d3-2a65-4173-cd2e-984a8cf7f1be"
      },
      "execution_count": null,
      "outputs": [
        {
          "output_type": "stream",
          "name": "stdout",
          "text": [
            "Data successfully inserted into SQLite database.\n"
          ]
        }
      ]
    },
    {
      "cell_type": "code",
      "source": [
        "query = \"SELECT name FROM sqlite_master WHERE type='table';\"\n",
        "tables = pd.read_sql(query, conn)\n",
        "print(\"List of Tables in the Database:\")\n",
        "print(tables)\n"
      ],
      "metadata": {
        "colab": {
          "base_uri": "https://localhost:8080/"
        },
        "id": "6QwHFZN9Kka_",
        "outputId": "9904921d-f8ec-4388-dec3-c18afac3703c"
      },
      "execution_count": null,
      "outputs": [
        {
          "output_type": "stream",
          "name": "stdout",
          "text": [
            "List of Tables in the Database:\n",
            "        name\n",
            "0  emissions\n"
          ]
        }
      ]
    },
    {
      "cell_type": "code",
      "source": [
        "query = \"\"\"\n",
        "SELECT Name, \"2023\" AS CO2_Emissions\n",
        "FROM emissions\n",
        "WHERE Name IN ('India','China','United States');\n",
        "\"\"\"\n",
        "\n",
        "result = pd.read_sql(query, conn)\n",
        "\n",
        "#Displaying the result\n",
        "print(\" CO₂ Emissions:\")\n",
        "print(result)"
      ],
      "metadata": {
        "colab": {
          "base_uri": "https://localhost:8080/"
        },
        "id": "wP8qwr0xK3OZ",
        "outputId": "d10b1197-4f9b-46ca-dacd-b63ca5317687"
      },
      "execution_count": null,
      "outputs": [
        {
          "output_type": "stream",
          "name": "stdout",
          "text": [
            " CO₂ Emissions:\n",
            "            Name  CO2_Emissions\n",
            "0          China   1.325964e+07\n",
            "1          India   2.955182e+06\n",
            "2  United States   4.682039e+06\n"
          ]
        }
      ]
    },
    {
      "cell_type": "code",
      "source": [],
      "metadata": {
        "id": "J7zZGdfLOzxw"
      },
      "execution_count": null,
      "outputs": []
    }
  ]
}