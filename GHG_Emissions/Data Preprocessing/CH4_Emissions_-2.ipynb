{
  "nbformat": 4,
  "nbformat_minor": 0,
  "metadata": {
    "colab": {
      "provenance": []
    },
    "kernelspec": {
      "name": "python3",
      "display_name": "Python 3"
    },
    "language_info": {
      "name": "python"
    }
  },
  "cells": [
    {
      "cell_type": "code",
      "execution_count": null,
      "metadata": {
        "colab": {
          "base_uri": "https://localhost:8080/"
        },
        "id": "7hUyVGHnWMng",
        "outputId": "0e9aab63-828c-4cb7-ae35-e96ed3529a40"
      },
      "outputs": [
        {
          "output_type": "stream",
          "name": "stdout",
          "text": [
            "Index([     'IPCC_annex', 'Country_code_A3',            'Name',\n",
            "             'Substance',              1970,              1971,\n",
            "                    1972,              1973,              1974,\n",
            "                    1975,              1976,              1977,\n",
            "                    1978,              1979,              1980,\n",
            "                    1981,              1982,              1983,\n",
            "                    1984,              1985,              1986,\n",
            "                    1987,              1988,              1989,\n",
            "                    1990,              1991,              1992,\n",
            "                    1993,              1994,              1995,\n",
            "                    1996,              1997,              1998,\n",
            "                    1999,              2000,              2001,\n",
            "                    2002,              2003,              2004,\n",
            "                    2005,              2006,              2007,\n",
            "                    2008,              2009,              2010,\n",
            "                    2011,              2012,              2013,\n",
            "                    2014,              2015,              2016,\n",
            "                    2017,              2018,              2019,\n",
            "                    2020,              2021,              2022,\n",
            "                    2023],\n",
            "      dtype='object')\n"
          ]
        }
      ],
      "source": [
        "import pandas as pd\n",
        "import sqlite3\n",
        "\n",
        "# Load the file\n",
        "file_path = \"/content/Methane Emissions 1970-2023.xlsx\"\n",
        "df = pd.read_excel(file_path)\n",
        "\n",
        "# Display column names\n",
        "print(df.columns)\n"
      ]
    },
    {
      "cell_type": "code",
      "source": [
        "# Drop duplicate rows\n",
        "df = df.drop_duplicates()\n",
        "\n",
        "# Fill missing values with 0\n",
        "df = df.fillna(0)\n",
        "\n",
        "# Ensure all year columns are numeric\n",
        "year_columns = [col for col in df.columns if isinstance(col, int)]\n",
        "df[year_columns] = df[year_columns].apply(pd.to_numeric, errors='coerce')\n",
        "\n",
        "# Convert country names to title case for consistency\n",
        "df[\"Name\"] = df[\"Name\"].str.title()\n",
        "\n",
        "# Print first few rows after preprocessing\n",
        "print(df.head())\n"
      ],
      "metadata": {
        "colab": {
          "base_uri": "https://localhost:8080/"
        },
        "id": "3dyddRsrb_rn",
        "outputId": "3030cf32-febe-4329-b430-184c19f474da"
      },
      "execution_count": null,
      "outputs": [
        {
          "output_type": "stream",
          "name": "stdout",
          "text": [
            "      IPCC_annex Country_code_A3           Name Substance        1970  \\\n",
            "0    Non-Annex_I             ABW          Aruba       CH4    0.383192   \n",
            "1    Non-Annex_I             AFG    Afghanistan       CH4  399.012248   \n",
            "2    Non-Annex_I             AGO         Angola       CH4  294.666101   \n",
            "3    Non-Annex_I             AIA       Anguilla       CH4    0.040268   \n",
            "4  Int. Aviation             AIR  Int. Aviation       CH4    1.188605   \n",
            "\n",
            "         1971        1972        1973        1974        1975  ...  \\\n",
            "0    0.425520    0.430048    0.435095    0.438069    0.440449  ...   \n",
            "1  397.599979  344.498184  358.548291  379.515878  401.973328  ...   \n",
            "2  301.541223  324.726662  343.251160  349.150089  339.798972  ...   \n",
            "3    0.041750    0.043157    0.044424    0.045678    0.046762  ...   \n",
            "4    1.188605    1.257431    1.311488    1.262267    1.221023  ...   \n",
            "\n",
            "          2014         2015         2016         2017         2018  \\\n",
            "0     0.740152     0.738626     0.747826     0.751525     0.757178   \n",
            "1   548.248540   526.610357   521.534459   519.566655   535.583702   \n",
            "2  1410.600720  1480.908742  1443.017369  1374.240447  1299.319041   \n",
            "3     0.091802     0.092707     0.092861     0.093022     0.092890   \n",
            "4     3.549025     3.749818     3.933658     4.151519     4.338539   \n",
            "\n",
            "          2019         2020         2021         2022         2023  \n",
            "0     0.764758     0.762113     0.774698     0.777828     0.784228  \n",
            "1   537.254342   540.005567   545.569788   566.380407   577.873509  \n",
            "2  1262.311889  1217.008143  1150.643375  1169.475098  1154.856142  \n",
            "3     0.093218     0.092860     0.092725     0.092848     0.093760  \n",
            "4     4.384298     2.091831     2.322804     2.884772     3.446741  \n",
            "\n",
            "[5 rows x 58 columns]\n"
          ]
        }
      ]
    },
    {
      "cell_type": "code",
      "source": [
        "conn = sqlite3.connect(\"methane_emissions.db\")\n",
        "\n",
        "# Save DataFrame to SQLite table\n",
        "df.to_sql(\"emissions\", conn, if_exists=\"replace\", index=False)\n",
        "\n",
        "print(\"Data successfully inserted into SQLite database.\")"
      ],
      "metadata": {
        "colab": {
          "base_uri": "https://localhost:8080/"
        },
        "id": "1BIfjXo1cCoN",
        "outputId": "784be52c-3c8c-4d17-93e4-405713630b92"
      },
      "execution_count": null,
      "outputs": [
        {
          "output_type": "stream",
          "name": "stdout",
          "text": [
            "Data successfully inserted into SQLite database.\n"
          ]
        }
      ]
    },
    {
      "cell_type": "code",
      "source": [
        "cursor = conn.cursor()\n",
        "\n",
        "query = \"SELECT Name, `2019` FROM emissions WHERE Name IN ('Brazil', 'Australia') AND Substance = 'CH4';\"\n",
        "cursor.execute(query)\n",
        "\n",
        "# Fetch and display the result\n",
        "print(cursor.fetchall())"
      ],
      "metadata": {
        "colab": {
          "base_uri": "https://localhost:8080/"
        },
        "id": "hm7nEOV-HvWN",
        "outputId": "3dfb40ce-caab-4b73-ec8a-b478c955bba9"
      },
      "execution_count": null,
      "outputs": [
        {
          "output_type": "stream",
          "name": "stdout",
          "text": [
            "[('Australia', 5122.4500400856), ('Brazil', 21092.285271494)]\n"
          ]
        }
      ]
    }
  ]
}