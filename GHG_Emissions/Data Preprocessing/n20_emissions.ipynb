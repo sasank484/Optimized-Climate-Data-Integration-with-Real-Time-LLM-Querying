{
  "nbformat": 4,
  "nbformat_minor": 0,
  "metadata": {
    "colab": {
      "provenance": []
    },
    "kernelspec": {
      "name": "python3",
      "display_name": "Python 3"
    },
    "language_info": {
      "name": "python"
    }
  },
  "cells": [
    {
      "cell_type": "code",
      "execution_count": null,
      "metadata": {
        "colab": {
          "base_uri": "https://localhost:8080/"
        },
        "id": "A3wv4KzAGlzA",
        "outputId": "5c1d8783-867c-4868-f9e4-34e9ba9467f0"
      },
      "outputs": [
        {
          "output_type": "stream",
          "name": "stdout",
          "text": [
            "Index([     'IPCC_annex', 'Country_code_A3',            'Name',\n",
            "             'Substance',              1970,              1971,\n",
            "                    1972,              1973,              1974,\n",
            "                    1975,              1976,              1977,\n",
            "                    1978,              1979,              1980,\n",
            "                    1981,              1982,              1983,\n",
            "                    1984,              1985,              1986,\n",
            "                    1987,              1988,              1989,\n",
            "                    1990,              1991,              1992,\n",
            "                    1993,              1994,              1995,\n",
            "                    1996,              1997,              1998,\n",
            "                    1999,              2000,              2001,\n",
            "                    2002,              2003,              2004,\n",
            "                    2005,              2006,              2007,\n",
            "                    2008,              2009,              2010,\n",
            "                    2011,              2012,              2013,\n",
            "                    2014,              2015,              2016,\n",
            "                    2017,              2018,              2019,\n",
            "                    2020,              2021,              2022,\n",
            "                    2023],\n",
            "      dtype='object')\n"
          ]
        }
      ],
      "source": [
        "import pandas as pd\n",
        "import sqlite3\n",
        "\n",
        "# Load the file\n",
        "file_path = \"/content/N20 EMISSIONS .xlsx\"\n",
        "df = pd.read_excel(file_path)\n",
        "\n",
        "# Display column names\n",
        "print(df.columns)\n"
      ]
    },
    {
      "cell_type": "code",
      "source": [
        "# Drop duplicate rows\n",
        "df = df.drop_duplicates()\n",
        "\n",
        "# Fill missing values with 0\n",
        "df = df.fillna(0)\n",
        "\n",
        "# Ensure all year columns are numeric\n",
        "year_columns = [col for col in df.columns if isinstance(col, int)]\n",
        "df[year_columns] = df[year_columns].apply(pd.to_numeric, errors='coerce')\n",
        "\n",
        "# Convert country names to title case for consistency\n",
        "df[\"Name\"] = df[\"Name\"].str.title()\n",
        "\n",
        "# Print first few rows after preprocessing\n",
        "print(df.head())"
      ],
      "metadata": {
        "colab": {
          "base_uri": "https://localhost:8080/"
        },
        "id": "oJ2MIflMHFz2",
        "outputId": "372c0ae2-7b17-4615-8964-788b162ec508"
      },
      "execution_count": null,
      "outputs": [
        {
          "output_type": "stream",
          "name": "stdout",
          "text": [
            "      IPCC_annex Country_code_A3           Name Substance      1970      1971  \\\n",
            "0    Non-Annex_I             ABW          Aruba       N2O  0.002871  0.002969   \n",
            "1    Non-Annex_I             AFG    Afghanistan       N2O  9.481292  9.354198   \n",
            "2    Non-Annex_I             AGO         Angola       N2O  5.772178  6.112057   \n",
            "3    Non-Annex_I             AIA       Anguilla       N2O  0.000189  0.000186   \n",
            "4  Int. Aviation             AIR  Int. Aviation       N2O  9.601289  9.553858   \n",
            "\n",
            "        1972       1973      1974      1975  ...       2014       2015  \\\n",
            "0   0.003276   0.003313  0.003341  0.003793  ...   0.029876   0.030764   \n",
            "1   7.384952   8.082761  8.831912  9.576698  ...  14.341565  14.496226   \n",
            "2   6.325980   6.429306  6.541321  6.617500  ...  17.391693  17.974026   \n",
            "3   0.000197   0.000185  0.000209  0.000245  ...   0.002726   0.002686   \n",
            "4  10.056903  10.436913  9.994834  9.619535  ...  25.127708  26.549356   \n",
            "\n",
            "        2016       2017       2018       2019       2020       2021  \\\n",
            "0   0.032365   0.031578   0.031356   0.035950   0.030677   0.032930   \n",
            "1  14.946087  16.841913  14.844073  14.902370  13.896009  13.500722   \n",
            "2  18.063063  17.746045  17.630547  18.349293  18.194210  18.726794   \n",
            "3   0.002890   0.002960   0.002815   0.002767   0.002390   0.002302   \n",
            "4  27.725680  29.192537  30.477702  30.944552  14.785237  16.401004   \n",
            "\n",
            "        2022       2023  \n",
            "0   0.033871   0.035314  \n",
            "1  13.380052  13.422512  \n",
            "2  19.186939  19.274163  \n",
            "3   0.002292   0.002377  \n",
            "4  20.368989  24.336974  \n",
            "\n",
            "[5 rows x 58 columns]\n"
          ]
        }
      ]
    },
    {
      "cell_type": "code",
      "source": [
        "conn = sqlite3.connect(\"N2o_emissions.db\")\n",
        "\n",
        "# Save DataFrame to SQLite table\n",
        "df.to_sql(\"emissions\", conn, if_exists=\"replace\", index=False)\n",
        "print(\"Data successfully inserted into SQLite database.\")"
      ],
      "metadata": {
        "colab": {
          "base_uri": "https://localhost:8080/"
        },
        "id": "fWecb44WHK0r",
        "outputId": "71d6e293-fbf2-49b8-a6a5-b5d37895330a"
      },
      "execution_count": null,
      "outputs": [
        {
          "output_type": "stream",
          "name": "stdout",
          "text": [
            "Data successfully inserted into SQLite database.\n"
          ]
        }
      ]
    },
    {
      "cell_type": "code",
      "source": [
        "cursor = conn.cursor()\n",
        "\n",
        "query = \"SELECT Name, `2019` FROM emissions WHERE Name IN ('Brazil', 'Australia') AND Substance = 'N2O';\"\n",
        "cursor.execute(query)\n",
        "\n",
        "# Fetch and display the result\n",
        "print(cursor.fetchall())"
      ],
      "metadata": {
        "colab": {
          "base_uri": "https://localhost:8080/"
        },
        "id": "vWiquPKpH34i",
        "outputId": "e51e230f-766c-41f1-dc9f-14fdd52cd8fd"
      },
      "execution_count": null,
      "outputs": [
        {
          "output_type": "stream",
          "name": "stdout",
          "text": [
            "[('Australia', 161.60614306131), ('Brazil', 548.68334294557)]\n"
          ]
        }
      ]
    }
  ]
}