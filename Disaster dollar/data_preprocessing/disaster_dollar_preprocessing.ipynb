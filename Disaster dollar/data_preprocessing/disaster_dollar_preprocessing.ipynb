{
 "cells": [
  {
   "cell_type": "code",
   "execution_count": 3,
   "metadata": {},
   "outputs": [],
   "source": [
    "import pandas as pd\n",
    "import sqlite3 as db\n"
   ]
  },
  {
   "cell_type": "code",
   "execution_count": 4,
   "metadata": {},
   "outputs": [],
   "source": [
    "df =pd.read_csv('disaster_dollar_dataset.csv')"
   ]
  },
  {
   "cell_type": "code",
   "execution_count": 5,
   "metadata": {},
   "outputs": [],
   "source": [
    "columns = ['year','event','incident_number','incident_start','incident_end','state','incident_type','valid_ihp_applications','eligible_ihp_applications','ihp_total','pa_total','pa_projects_count','cdbg_dr_allocation']"
   ]
  },
  {
   "cell_type": "code",
   "execution_count": 6,
   "metadata": {},
   "outputs": [],
   "source": [
    "df = df[columns]"
   ]
  },
  {
   "cell_type": "code",
   "execution_count": 7,
   "metadata": {},
   "outputs": [
    {
     "data": {
      "text/html": [
       "<div>\n",
       "<style scoped>\n",
       "    .dataframe tbody tr th:only-of-type {\n",
       "        vertical-align: middle;\n",
       "    }\n",
       "\n",
       "    .dataframe tbody tr th {\n",
       "        vertical-align: top;\n",
       "    }\n",
       "\n",
       "    .dataframe thead th {\n",
       "        text-align: right;\n",
       "    }\n",
       "</style>\n",
       "<table border=\"1\" class=\"dataframe\">\n",
       "  <thead>\n",
       "    <tr style=\"text-align: right;\">\n",
       "      <th></th>\n",
       "      <th>year</th>\n",
       "      <th>event</th>\n",
       "      <th>incident_number</th>\n",
       "      <th>incident_start</th>\n",
       "      <th>incident_end</th>\n",
       "      <th>state</th>\n",
       "      <th>incident_type</th>\n",
       "      <th>valid_ihp_applications</th>\n",
       "      <th>eligible_ihp_applications</th>\n",
       "      <th>ihp_total</th>\n",
       "      <th>pa_total</th>\n",
       "      <th>pa_projects_count</th>\n",
       "      <th>cdbg_dr_allocation</th>\n",
       "    </tr>\n",
       "  </thead>\n",
       "  <tbody>\n",
       "    <tr>\n",
       "      <th>0</th>\n",
       "      <td>2003</td>\n",
       "      <td>North Carolina Hurricane Isabel</td>\n",
       "      <td>1490</td>\n",
       "      <td>9/18/2003</td>\n",
       "      <td>9/26/2003</td>\n",
       "      <td>NC</td>\n",
       "      <td>Hurricane</td>\n",
       "      <td>54328.0</td>\n",
       "      <td>25950.0</td>\n",
       "      <td>45381526.0</td>\n",
       "      <td>68990855.0</td>\n",
       "      <td>1410.0</td>\n",
       "      <td>1523327.0</td>\n",
       "    </tr>\n",
       "    <tr>\n",
       "      <th>1</th>\n",
       "      <td>2003</td>\n",
       "      <td>Virginia Hurricane Isabel</td>\n",
       "      <td>1491</td>\n",
       "      <td>9/18/2003</td>\n",
       "      <td>10/1/2003</td>\n",
       "      <td>VA</td>\n",
       "      <td>Hurricane</td>\n",
       "      <td>92918.0</td>\n",
       "      <td>29170.0</td>\n",
       "      <td>57048029.0</td>\n",
       "      <td>201148176.0</td>\n",
       "      <td>2454.0</td>\n",
       "      <td>1431004.0</td>\n",
       "    </tr>\n",
       "    <tr>\n",
       "      <th>2</th>\n",
       "      <td>2003</td>\n",
       "      <td>Maryland Hurricane Isabel</td>\n",
       "      <td>1492</td>\n",
       "      <td>9/18/2003</td>\n",
       "      <td>9/29/2003</td>\n",
       "      <td>MD</td>\n",
       "      <td>Hurricane</td>\n",
       "      <td>18012.0</td>\n",
       "      <td>8686.0</td>\n",
       "      <td>33052305.0</td>\n",
       "      <td>39539110.0</td>\n",
       "      <td>1459.0</td>\n",
       "      <td>2737133.0</td>\n",
       "    </tr>\n",
       "    <tr>\n",
       "      <th>3</th>\n",
       "      <td>2003</td>\n",
       "      <td>District of Columbia Hurricane Isabel</td>\n",
       "      <td>1493</td>\n",
       "      <td>9/18/2003</td>\n",
       "      <td>9/29/2003</td>\n",
       "      <td>DC</td>\n",
       "      <td>Hurricane</td>\n",
       "      <td>1732.0</td>\n",
       "      <td>701.0</td>\n",
       "      <td>953918.0</td>\n",
       "      <td>4781171.0</td>\n",
       "      <td>86.0</td>\n",
       "      <td>NaN</td>\n",
       "    </tr>\n",
       "    <tr>\n",
       "      <th>4</th>\n",
       "      <td>2003</td>\n",
       "      <td>Delaware Hurricane Isabel</td>\n",
       "      <td>1494</td>\n",
       "      <td>9/18/2003</td>\n",
       "      <td>9/29/2003</td>\n",
       "      <td>DE</td>\n",
       "      <td>Hurricane</td>\n",
       "      <td>667.0</td>\n",
       "      <td>344.0</td>\n",
       "      <td>1459279.0</td>\n",
       "      <td>2110395.0</td>\n",
       "      <td>182.0</td>\n",
       "      <td>NaN</td>\n",
       "    </tr>\n",
       "  </tbody>\n",
       "</table>\n",
       "</div>"
      ],
      "text/plain": [
       "   year                                  event  incident_number  \\\n",
       "0  2003        North Carolina Hurricane Isabel             1490   \n",
       "1  2003              Virginia Hurricane Isabel             1491   \n",
       "2  2003              Maryland Hurricane Isabel             1492   \n",
       "3  2003  District of Columbia Hurricane Isabel             1493   \n",
       "4  2003              Delaware Hurricane Isabel             1494   \n",
       "\n",
       "  incident_start incident_end state incident_type  valid_ihp_applications  \\\n",
       "0      9/18/2003    9/26/2003    NC     Hurricane                 54328.0   \n",
       "1      9/18/2003    10/1/2003    VA     Hurricane                 92918.0   \n",
       "2      9/18/2003    9/29/2003    MD     Hurricane                 18012.0   \n",
       "3      9/18/2003    9/29/2003    DC     Hurricane                  1732.0   \n",
       "4      9/18/2003    9/29/2003    DE     Hurricane                   667.0   \n",
       "\n",
       "   eligible_ihp_applications   ihp_total     pa_total  pa_projects_count  \\\n",
       "0                    25950.0  45381526.0   68990855.0             1410.0   \n",
       "1                    29170.0  57048029.0  201148176.0             2454.0   \n",
       "2                     8686.0  33052305.0   39539110.0             1459.0   \n",
       "3                      701.0    953918.0    4781171.0               86.0   \n",
       "4                      344.0   1459279.0    2110395.0              182.0   \n",
       "\n",
       "   cdbg_dr_allocation  \n",
       "0           1523327.0  \n",
       "1           1431004.0  \n",
       "2           2737133.0  \n",
       "3                 NaN  \n",
       "4                 NaN  "
      ]
     },
     "execution_count": 7,
     "metadata": {},
     "output_type": "execute_result"
    }
   ],
   "source": [
    "df.head()"
   ]
  },
  {
   "cell_type": "code",
   "execution_count": 8,
   "metadata": {},
   "outputs": [
    {
     "name": "stdout",
     "output_type": "stream",
     "text": [
      "year                           0\n",
      "event                          0\n",
      "incident_number                0\n",
      "incident_start                 0\n",
      "incident_end                   0\n",
      "state                          0\n",
      "incident_type                  0\n",
      "valid_ihp_applications       747\n",
      "eligible_ihp_applications    747\n",
      "ihp_total                    451\n",
      "pa_total                      38\n",
      "pa_projects_count             95\n",
      "cdbg_dr_allocation           949\n",
      "dtype: int64\n"
     ]
    }
   ],
   "source": [
    "print(df.isna().sum())"
   ]
  },
  {
   "cell_type": "code",
   "execution_count": 9,
   "metadata": {},
   "outputs": [],
   "source": [
    "conn = db.connect('disaster_fema_hud.db')"
   ]
  },
  {
   "cell_type": "code",
   "execution_count": 11,
   "metadata": {},
   "outputs": [],
   "source": [
    "df.to_sql('disaster_dollar_db',conn,if_exists='replace',index=False)"
   ]
  }
 ],
 "metadata": {
  "kernelspec": {
   "display_name": "Python 3",
   "language": "python",
   "name": "python3"
  },
  "language_info": {
   "codemirror_mode": {
    "name": "ipython",
    "version": 3
   },
   "file_extension": ".py",
   "mimetype": "text/x-python",
   "name": "python",
   "nbconvert_exporter": "python",
   "pygments_lexer": "ipython3",
   "version": "3.9.9"
  }
 },
 "nbformat": 4,
 "nbformat_minor": 2
}
