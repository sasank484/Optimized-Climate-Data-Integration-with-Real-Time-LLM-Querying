{
 "cells": [
  {
   "cell_type": "code",
   "execution_count": 1,
   "id": "7cad2c31-4e72-4934-be88-7584d1702e63",
   "metadata": {},
   "outputs": [],
   "source": [
    "import xarray as xr\n",
    "import pandas as pd\n",
    "import reverse_geocode\n",
    "import sqlite3"
   ]
  },
  {
   "cell_type": "code",
   "execution_count": 2,
   "id": "2d4ae9ad-f57b-476e-a5a1-1782e4d18c51",
   "metadata": {},
   "outputs": [],
   "source": [
    "# Define file paths\n",
    "file_path_1 =\"data_1.nc\"\n",
    "file_path_0 = \"data_0.nc\""
   ]
  },
  {
   "cell_type": "code",
   "execution_count": 3,
   "id": "1e70279b-4aff-401f-afa2-13d1e5dd2901",
   "metadata": {},
   "outputs": [
    {
     "name": "stdout",
     "output_type": "stream",
     "text": [
      "KeysView(Data variables:\n",
      "    cvh      (valid_time, latitude, longitude) float32 ...\n",
      "    sp       (valid_time, latitude, longitude) float32 ...\n",
      "    tco3     (valid_time, latitude, longitude) float32 ...\n",
      "    si10     (valid_time, latitude, longitude) float32 ...\n",
      "    skt      (valid_time, latitude, longitude) float32 ...)\n",
      "KeysView(Data variables:\n",
      "    uvb         (valid_time, latitude, longitude) float32 ...\n",
      "    sf          (valid_time, latitude, longitude) float32 ...\n",
      "    ttr         (valid_time, latitude, longitude) float32 ...\n",
      "    tp          (valid_time, latitude, longitude) float32 ...\n",
      "    crr         (valid_time, latitude, longitude) float32 ...\n",
      "    avg_ie      (valid_time, latitude, longitude) float32 ...\n",
      "    avg_vimdf   (valid_time, latitude, longitude) float32 ...\n",
      "    avg_tprate  (valid_time, latitude, longitude) float32 ...)\n"
     ]
    }
   ],
   "source": [
    "# Open the NetCDF files\n",
    "dataset_1 = xr.open_dataset(file_path_1, engine='netcdf4')\n",
    "dataset_0 = xr.open_dataset(file_path_0, engine='netcdf4')\n",
    "print(dataset_0.data_vars.keys())\n",
    "print(dataset_1.data_vars.keys())"
   ]
  },
  {
   "cell_type": "code",
   "execution_count": 4,
   "id": "70f47e49-5c1c-4651-90ec-56893cdcb75f",
   "metadata": {},
   "outputs": [],
   "source": [
    "df1 = dataset_1.to_dataframe().reset_index()"
   ]
  },
  {
   "cell_type": "code",
   "execution_count": 5,
   "id": "db88ecf3",
   "metadata": {},
   "outputs": [],
   "source": [
    "df0 = dataset_0.to_dataframe().reset_index()"
   ]
  },
  {
   "cell_type": "code",
   "execution_count": 6,
   "id": "68c23a6c",
   "metadata": {},
   "outputs": [],
   "source": [
    "\n",
    "    df0.rename(columns={'valid_time': 'date','cvh':'high_vegetation_cover','sp':'surface_pressure','tco3':'total_ozone','si10':'wind_speed','skt':'skin_temperature'},inplace=True)\n",
    "    df1.rename(columns={'valid_time': 'date','uvb':'uv_radiation','sf':'snowfall','ttr':'net_thermal_radiation','tp':'total_precipitation','crr':'convective_rain_rate','avg_ie':'mean_evaporation_rate','avg_vimdf':'mean_moisture_divergence','avg_tprate':'mean_precipitation_rate'}, inplace=True)"
   ]
  },
  {
   "cell_type": "code",
   "execution_count": 7,
   "id": "b650202c",
   "metadata": {},
   "outputs": [],
   "source": [
    "#Function for Reverse Geocoding\n",
    "def get_place_name(lat, lon):\n",
    "    location = reverse_geocode.search([(lat, lon)])[0]\n",
    "    city, country = location['city'], location['country']\n",
    "    return city, country"
   ]
  },
  {
   "cell_type": "code",
   "execution_count": 8,
   "id": "89df1b9a",
   "metadata": {},
   "outputs": [],
   "source": [
    "def data_filter(ds,latmin,latmax,lonmin,lonmax):\n",
    "    climate_subset = ds.query(f\"latitude >= {latmin} and latitude <= {latmax} and longitude >= {lonmin} and longitude <= {lonmax}\")\n",
    "    return climate_subset"
   ]
  },
  {
   "cell_type": "code",
   "execution_count": 9,
   "id": "6f38602e",
   "metadata": {},
   "outputs": [],
   "source": [
    "def final_df(mdf,cname):\n",
    "    mdf[['City', 'Country']] = mdf.apply(lambda row: pd.Series(get_place_name(row[\"latitude\"], row[\"longitude\"])), axis=1)\n",
    "    mdf = mdf[mdf[\"Country\"] == cname]\n",
    "    mdf = mdf.groupby([\"City\", \"date\"]).mean(numeric_only=True).reset_index()\n",
    "    mdf = mdf.drop(columns={'number'})\n",
    "    return mdf"
   ]
  },
  {
   "cell_type": "code",
   "execution_count": 10,
   "id": "b47a82c0",
   "metadata": {},
   "outputs": [
    {
     "name": "stderr",
     "output_type": "stream",
     "text": [
      "/opt/sw/spack/apps/linux-rhel8-x86_64_v2/gcc-10.3.0/python-3.9.9-jh/lib/python3.9/site-packages/pandas/core/frame.py:3641: SettingWithCopyWarning: \n",
      "A value is trying to be set on a copy of a slice from a DataFrame.\n",
      "Try using .loc[row_indexer,col_indexer] = value instead\n",
      "\n",
      "See the caveats in the documentation: https://pandas.pydata.org/pandas-docs/stable/user_guide/indexing.html#returning-a-view-versus-a-copy\n",
      "  self[k1] = value[k2]\n"
     ]
    }
   ],
   "source": [
    "india_df0=data_filter(df0,6.5,37.5,68.0,97.5)\n",
    "nepal_df0 = final_df(india_df0,\"Nepal\")\n",
    "india_df1=data_filter(df1,6.5,37.5,68.0,97.5)\n",
    "nepal_df1 = final_df(india_df1,\"Nepal\")\n"
   ]
  },
  {
   "cell_type": "code",
   "execution_count": 12,
   "id": "5845a5bd",
   "metadata": {},
   "outputs": [
    {
     "name": "stdout",
     "output_type": "stream",
     "text": [
      "Index(['City', 'date', 'latitude', 'longitude', 'uv_radiation', 'snowfall',\n",
      "       'net_thermal_radiation', 'total_precipitation', 'convective_rain_rate',\n",
      "       'mean_evaporation_rate', 'mean_moisture_divergence',\n",
      "       'mean_precipitation_rate'],\n",
      "      dtype='object')\n"
     ]
    }
   ],
   "source": [
    "print(nepal_df1.columns)"
   ]
  },
  {
   "cell_type": "code",
   "execution_count": 13,
   "id": "eb6d04c9",
   "metadata": {},
   "outputs": [],
   "source": [
    "india_df0=data_filter(df0,6.5,37.5,68.0,97.5)\n",
    "bhutan_df0 = final_df(india_df0,\"Bhutan\")\n",
    "india_df1=data_filter(df1,6.5,37.5,68.0,97.5)\n",
    "bhutan_df1 = final_df(india_df1,\"Bhutan\")\n"
   ]
  },
  {
   "cell_type": "code",
   "execution_count": 14,
   "id": "45086c08",
   "metadata": {},
   "outputs": [],
   "source": [
    "india_df0=data_filter(df0,6.5,37.5,68.0,97.5)\n",
    "india_df0 = final_df(india_df0,\"India\")\n",
    "india_df1=data_filter(df1,6.5,37.5,68.0,97.5)\n",
    "india_df1=final_df(india_df1,\"India\")\n"
   ]
  },
  {
   "cell_type": "code",
   "execution_count": 15,
   "id": "2021e4b3",
   "metadata": {},
   "outputs": [],
   "source": [
    "bangladesh_df0=data_filter(df0,20.57,26.63,88.02,92.68)\n",
    "bangladesh_df0 = final_df(bangladesh_df0,\"Bangladesh\")\n",
    "bangladesh_df1=data_filter(df1,20.57,26.63,88.02,92.68)\n",
    "bangladesh_df1 = final_df(bangladesh_df1,\"Bangladesh\")"
   ]
  },
  {
   "cell_type": "code",
   "execution_count": 16,
   "id": "3b014613",
   "metadata": {},
   "outputs": [],
   "source": [
    "pakistan_df0=data_filter(df0,23.63,37.08,60.87,77.84)\n",
    "pakistan_df0=final_df(pakistan_df0,\"Pakistan\")\n",
    "pakistan_df1=data_filter(df1,23.63,37.08,60.87,77.84)\n",
    "pakistan_df1=final_df(pakistan_df1,\"Pakistan\")"
   ]
  },
  {
   "cell_type": "code",
   "execution_count": 17,
   "id": "7b3699a4",
   "metadata": {},
   "outputs": [],
   "source": [
    "srilanka_df0=data_filter(df0,5.92,9.84,79.65,81.88)\n",
    "srilanka_df0=final_df(srilanka_df0,\"Sri Lanka\")\n",
    "srilanka_df1=data_filter(df1,5.92,9.84,79.65,81.88)\n",
    "srilanka_df1=final_df(srilanka_df1,\"Sri Lanka\")"
   ]
  },
  {
   "cell_type": "code",
   "execution_count": 18,
   "id": "c344bf66",
   "metadata": {},
   "outputs": [],
   "source": [
    "afghanistan_df0=data_filter(df0,29.38,38.49,60.53,74.89)\n",
    "afghanistan_df0=final_df(afghanistan_df0,\"Afghanistan\")\n",
    "afghanistan_df1=data_filter(df1,29.38,38.49,60.53,74.89)\n",
    "afghanistan_df1=final_df(afghanistan_df1,\"Afghanistan\")"
   ]
  },
  {
   "cell_type": "code",
   "execution_count": 19,
   "id": "facd69f6",
   "metadata": {},
   "outputs": [],
   "source": [
    "conn = sqlite3.connect('south_asia_monthly_new.db')"
   ]
  },
  {
   "cell_type": "code",
   "execution_count": 20,
   "id": "aa69e3eb",
   "metadata": {},
   "outputs": [],
   "source": [
    "india_df0.to_sql('india_df0', conn, if_exists='replace', index=False)\n",
    "nepal_df0.to_sql('nepal_df0', conn, if_exists='replace', index=False)\n",
    "bhutan_df0.to_sql('bhutan_df0', conn, if_exists='replace', index=False)\n",
    "pakistan_df0.to_sql('pakistan_df0',conn,if_exists='replace',index=False)\n",
    "bangladesh_df0.to_sql('bangladesh_df0',conn,if_exists='replace',index=False)\n",
    "srilanka_df0.to_sql('srilanka_df0',conn,if_exists='replace',index=False)\n",
    "afghanistan_df0.to_sql('afghanistan_df0',conn,if_exists='replace',index=False)"
   ]
  },
  {
   "cell_type": "code",
   "execution_count": 21,
   "id": "fe436f71",
   "metadata": {},
   "outputs": [],
   "source": [
    "india_df1.to_sql('india_df1', conn, if_exists='replace', index=False)\n",
    "nepal_df1.to_sql('nepal_df1', conn, if_exists='replace', index=False)\n",
    "bhutan_df1.to_sql('bhutan_df1', conn, if_exists='replace', index=False)\n",
    "pakistan_df1.to_sql('pakistan_df1',conn,if_exists='replace',index=False)\n",
    "bangladesh_df1.to_sql('bangladesh_df1',conn,if_exists='replace',index=False)\n",
    "srilanka_df1.to_sql('srilanka_df1',conn,if_exists='replace',index=False)\n",
    "afghanistan_df1.to_sql('afghanistan_df1',conn,if_exists='replace',index=False)\n"
   ]
  },
  {
   "cell_type": "code",
   "execution_count": null,
   "id": "abeef071",
   "metadata": {},
   "outputs": [
    {
     "name": "stdout",
     "output_type": "stream",
     "text": [
      "['7LC', 'Abhayāpuri', 'Abirāmam', 'Abohar', 'Abrama', 'Achalpur', 'Addanki', 'Adirampattinam', 'Adra', 'Aduthurai', 'Adūr', 'Afzalpur', 'Agar', 'Agartala', 'Agatti', 'Ahiri', 'Ahmadnagar', 'Ahmadpur', 'Ahraura', 'Ahwa', 'Aizawl', 'Ajani Khurd', 'Ajjampur', 'Ajmer', 'Ajra', 'Akalkot', 'Akaltara', 'Akasahebpet', 'Akbarpur', 'Aklera', 'Akola', 'Akot', 'Alagāpuram', 'Alampur', 'Aland', 'Alangāyam', 'Alappuzha', 'Allāhganj', 'Allāpalli', 'Almora', 'Alnāvar', 'Along', 'Alot', 'Alwar', 'Alībāg', 'Alīganj', 'Alīgarh', 'Alīpur Duār', 'Alūr', 'Amalner', 'Amalāpuram', 'Amaravati', 'Amarkantak', 'Amarpur', 'Amarpātan', 'Amarwāra', 'Ambad', 'Ambikāpur', 'Ambur', 'Ambāgarh Chauki', 'Ambāh', 'Ambājogāi', 'Ambāla', 'Amet', 'Amethi', 'Amethī', 'Amguri', 'Amini', 'Amla', 'Amloh', 'Ammāpettai', 'Amod', 'Ampati', 'Amreli', 'Amritsar', 'Amroha', 'Amrāvati', 'Amānganj', 'Amānpur', 'Anakāpalle', 'Anamalais', 'Anand', 'Anandnagar', 'Anandpur', 'Anantapur', 'Anantnag', 'Andol', 'Andrott', 'Anekal', 'Angamāli', 'Angul', 'Anjad', 'Anjangaon', 'Anjani Budruk', 'Anjār', 'Ankola', 'Annavāsal', 'Annigeri', 'Annāmalainagar', 'Anshing', 'Anta', 'Anthiyur', 'Antri', 'Anūpgarh', 'Anūppur', 'Aonla', 'Arakkonam', 'Arambol', 'Arang', 'Arantāngi', 'Arkalgūd', 'Arki', 'Arni', 'Arsikere', 'Arumbāvūr', 'Aruvankad', 'Arāmbāgh', 'Arāria', 'Asarganj', 'Ashoknagar', 'Ashta', 'Asifābād', 'Ateli Mandi', 'Athni', 'Atmakūr', 'Atraulia', 'Atraulī', 'Attur', 'Auraiya', 'Aurangābād', 'Auroville', 'Aurād', 'Ausa', 'Avanigadda', 'Avinashi', 'Awantipur', 'Ayodhya', 'Azamgarh', 'Azhikkal', 'Baberu', 'Babīna', 'Bachhrāwān', 'Bada Barabīl', 'Badagara', 'Badarpur', 'Badarwās', 'Badhni Kalān', 'Badlapur', 'Badnāwar', 'Badvel', 'Bagaha', 'Bagalkot', 'Bagar', 'Bagasra', 'Bagulā', 'Baheri', 'Bahraigh', 'Bahsūma', 'Bahua', 'Bahula', 'Bahādurganj', 'Baihar', 'Baikunthpur', 'Bail-Hongal', 'Bairāgnia', 'Baisi', 'Bakhtiyārpur', 'Bakloh', 'Bakreswar', 'Bakshwāho', 'Bakāni', 'Balarāmpur', 'Balasore', 'Baldeogarh', 'Balimila', 'Balod', 'Baloda', 'Baloda Bāzār', 'Balrampur', 'Balrāmpur', 'Balāngīr', 'Bamboo Flat', 'Bamna', 'Bamora', 'Banbasa', 'Banda', 'Bandipura', 'Banga', 'Banganapalle', 'Bangaon', 'Banihāl', 'Banjār', 'Banmankhi', 'Banūr', 'Bar Bigha', 'Bara Uchāna', 'Barauli', 'Barddhamān', 'Barela', 'Bargarh', 'Barghāt', 'Bargi', 'Barhi', 'Barhiya', 'Bari Sādri', 'Bariārpur', 'Barkhera Kalān', 'Barki Saria', 'Barkot', 'Barkā Kānā', 'Barnāla', 'Barpathār', 'Barpeta', 'Barpeta Road', 'Barpāli', 'Barwādih', 'Barwāni', 'Barāgaon', 'Basavakalyān', 'Basavana Bāgevādi', 'Basi', 'Basmat', 'Basna', 'Basni', 'Bastī', 'Bathinda', 'Batāla', 'Baud', 'Bawāna', 'Bayāna', 'Bedi', 'Beed', 'Begamganj', 'Begampur', 'Begowāl', 'Begusarai', 'Begūn', 'Behat', 'Bela', 'Belagavi', 'Belaguntha', 'Beldānga', 'Beliātor', 'Bellampalli', 'Bellary', 'Bellūru', 'Belonia', 'Beltangadi', 'Belthangady', 'Belūr', 'Bemetāra', 'Bengaluru', 'Benīganj', 'Beohāri', 'Berasia', 'Beri Khās', 'Betamcherla', 'Bettiah', 'Betūl', 'Betūl Bazār', 'Bewar', 'Beypore', 'Beāwar', 'Bhabhua', 'Bhachāu', 'Bhadarwāh', 'Bhadaur', 'Bhadrakh', 'Bhadrāchalam', 'Bhadrāvati', 'Bhagirathpur', 'Bhagwantnagar', 'Bhainsdehi', 'Bhaisa', 'Bhandāra', 'Bhanjanagar', 'Bharatpur', 'Bharthana', 'Bharwāri', 'Bharūch', 'Bhasāwar', 'Bhatgaon', 'Bhatkal', 'Bhavnagar', 'Bhawānipatna', 'Bhawānīgarh', 'Bhayandar', 'Bhigvan', 'Bhikangaon', 'Bhind', 'Bhindār', 'Bhinga', 'Bhitarwār', 'Bhiwāni', 'Bhojudih', 'Bhongīr', 'Bhopāl', 'Bhowali', 'Bhuban', 'Bhubaneswar', 'Bhuj', 'Bhulath Gharbi', 'Bhuma', 'Bhusāval', 'Bhābhra', 'Bhādra', 'Bhādāsar', 'Bhāgalpur', 'Bhālki', 'Bhānder', 'Bhānpura', 'Bhānvad', 'Bhātāpāra', 'Bhāyāvadar', 'Bhīkhi', 'Bhīlwāra', 'Bhīm Tāl', 'Bhīmavaram', 'Bhīmunipatnam', 'Bhīnmāl', 'Bhūm', 'Biaora', 'Bidhūna', 'Bihpuriāgaon', 'Bihār Sharīf', 'Bihārīganj', 'Bijapur', 'Bijni', 'Bijrauni', 'Bijāwar', 'Bikramganj', 'Bilariāganj', 'Bilaspur', 'Bilgi', 'Bilhaur', 'Bilimora', 'Bilkha', 'Biloli', 'Bilsanda', 'Bilthra', 'Bilāra', 'Bilāsipāra', 'Bilāspur', 'Bindki', 'Binka', 'Birmitrapur', 'Bishnupur', 'Bissāu', 'Biswanath Chariali', 'Biswān', 'Bobbili', 'Bodināyakkanūr', 'Bodri', 'Boisar', 'Bokajān', 'Bokākhāt', 'Bolpur', 'Bomdila', 'Bongaigaon', 'Borivli', 'Borkhera', 'Botād', 'Brahmapur', 'Brājarājnagar', 'Budhāna', 'Buguda', 'Buldāna', 'Burhar', 'Burla', 'Buxar', 'Byndoor', 'Byādgi', 'Bābai', 'Bābra', 'Bāg', 'Bāgepalli', 'Bāgeshwar', 'Bāgha Purāna', 'Bāghpat', 'Bāgli', 'Bājna', 'Bāli', 'Bāli Chak', 'Bālotra', 'Bālugaon', 'Bālurghāt', 'Bālāchor', 'Bālāghāt', 'Bālāpur', 'Bāmor Kalān', 'Bānapur', 'Bānda', 'Bāndīkūi', 'Bānka', 'Bānki', 'Bānkura', 'Bānposh', 'Bānsdīh', 'Bānsgāon', 'Bānsi', 'Bānswāda', 'Bānswāra', 'Bāntva', 'Bānāvar', 'Bāpatla', 'Bāramūla', 'Bārh', 'Bāri', 'Bārmer', 'Bārsi', 'Bāruni', 'Bārāmati', 'Bārān', 'Bārāsat', 'Bāsoda', 'Bāsudebpur', 'Bāsār', 'Bāwal', 'Bīdar', 'Bīghāpur Khurd', 'Bīkaner', 'Bīkāpur', 'Bīlāspur', 'Bīrpur', 'Bīsalpur', 'Būndi', 'Būndu', 'Calangute', 'Canacona', 'Candolim', 'Captainganj', 'Cavelossim', 'Chakia', 'Chakradharpur', 'Chakrāta', 'Chaksu', 'Challakere', 'Chamba', 'Champawat', 'Chamrajnagar', 'Chandauli', 'Chandel', 'Chanderi', 'Chandia', 'Chandla', 'Chandrakona', 'Chandīgarh', 'Chandūr', 'Changanācheri', 'Channagiri', 'Channapatna', 'Charkhi Dādri', 'Chatrā', 'Chaupāl', 'Chechat', 'Chemmumiahpet', 'Chengam', 'Chennai', 'Cherpulassery', 'Cherrapunji', 'Chetlat', 'Chetwayi', 'Cheyyur', 'Chhabra', 'Chhala', 'Chharra', 'Chhatarpur', 'Chhindwāra', 'Chhota Udepur', 'Chhoti Sādri', 'Chhutmalpur', 'Chhuīkhadān', 'Chhāta', 'Chhātāpur', 'Chichli', 'Chicholi', 'Chik Ballāpur', 'Chikhli', 'Chikitigarh', 'Chikmagalūr', 'Chiknāyakanhalli', 'Chilakalūrupet', 'Chinchani', 'Chincholi', 'Chinna Salem', 'Chinnachowk', 'Chinnamanūr', 'Chintāmani', 'Chiplūn', 'Chiria', 'Chirmiri', 'Chitradurga', 'Chittaranjan', 'Chittarkonda', 'Chittaurgarh', 'Chittoor', 'Chittūr', 'Chodavaram', 'Chopan', 'Chopda', 'Chorhat', 'Chowari', 'Chunār', 'Churāchāndpur', 'Chābua', 'Chākia', 'Chākuliā', 'Chālisgaon', 'Chāmpa', 'Chāmpua', 'Chānasma', 'Chāndbāli', 'Chāndil', 'Chāndor', 'Chāndur', 'Chāndūr', 'Chāndūr Bāzār', 'Chāpar', 'Chāpra', 'Chās', 'Chāībāsa', 'Chēlakara', 'Chīpurupalle', 'Chūru', 'Clement Town', 'Closepet', 'Cochin', 'Colachel', 'Colgong', 'Colonelganj', 'Contai', 'Coondapoor', 'Cuddalore', 'Cumbum', 'Cuttack', 'Dabhoi', 'Dabra', 'Dabwāli', 'Dahegām', 'Daitari', 'Dalhousie', 'Dalmau', 'Daltonganj', 'Daman', 'Damoh', 'Dandeli', 'Darbhanga', 'Dariba', 'Darlawn', 'Darsi', 'Daryāpur', 'Dasnapur', 'Datia', 'Daudnagar', 'Daulatpur', 'Daund', 'Dausa', 'Davangere', 'Davorlim', 'Dayapar', 'Dayāl Bāgh', 'Debīpur', 'Dehri', 'Dehu', 'Delvāda', 'Denkanikota', 'Deoband', 'Deogarh', 'Deoghar', 'Deoli', 'Deoraniān', 'Deori', 'Deori Khās', 'Deoria', 'Depālpur', 'Dergaon', 'Derā Nānak', 'Deshnoke', 'Desūr', 'Devanhalli', 'Devaprayāg', 'Devarkonda', 'Devgadh Bāriya', 'Devgarh', 'Dewas', 'Deūlgaon Rāja', 'Dhali', 'Dhamtari', 'Dhanaula', 'Dhanaura', 'Dhanbad', 'Dhandhuka', 'Dhanera', 'Dhanwār', 'Dharampur', 'Dharampuri', 'Dharamsala', 'Dharangaon', 'Dharapuram', 'Dharashiv', 'Dharmanagar', 'Dharmapuri', 'Dharmavaram', 'Dharmābād', 'Dhaulpur', 'Dhaurahra', 'Dhekiajuli', 'Dhemāji', 'Dhenkānāl', 'Dhilwan', 'Dhing', 'Dhola', 'Dholka', 'Dhone', 'Dhorāji', 'Dhrol', 'Dhrāngadhra', 'Dhuburi', 'Dhupgāri', 'Dhuwaran', 'Dhāmnod', 'Dhāmpur', 'Dhāna', 'Dhār', 'Dhārchula', 'Dhāri', 'Dhāriwāl', 'Dhāruhera', 'Dhārūr', 'Dhūlia', 'Diamond Harbour', 'Dibai', 'Dibrugarh', 'Dicholi', 'Digapahandi', 'Digboi', 'Digha', 'Dighwāra', 'Digras', 'Diguvametta', 'Dimāpur', 'Dindigul', 'Dindori', 'Diphu', 'Dirba', 'Dispur', 'Diu', 'Doda', 'Doddaballapura', 'Dohad', 'Dohrighāt', 'Dondaicha', 'Dongargaon', 'Dongargarh', 'Dornakal', 'Dorāha', 'Dostpur', 'Dubrājpur', 'Dum Duma', 'Dumka', 'Dumra', 'Dumraon', 'Dungarpur', 'Durg', 'Durgapur', 'Durgāpur', 'Dwārka', 'Dwārāhāt', 'Dābhol', 'Dāhānu', 'Dāmnagar', 'Dārjiling', 'Dārwha', 'Dātāganj', 'Dīdwāna', 'Dīg', 'Dīglūr', 'Dīsa', 'Dūdhi', 'Dūngarpur', 'Dūsi', 'Egra', 'Elamanchili', 'Ellenabad', 'Ellore', 'Elāyirampannai', 'Emmiganūr', 'Erode', 'Erraguntla', 'Erāttupetta', 'Etikoppāka', 'Ettaiyapuram', 'Etāwa', 'Etāwah', 'Farah', 'Farrukhnagar', 'Farīdkot', 'Farīdpur', 'Fatehpur', 'Fatehpur Chaurāsi', 'Fatehābād', 'Fatwa', 'Ferozepore', 'Forbesganj', 'French Rocks', 'Fyzābād', 'Fālākāta', 'Fāzilka', 'Fīrozpur Jhirka', 'Gadhada', 'Gadhinglaj', 'Gadwāl', 'Gajendragarh', 'Galiākot', 'Gandai', 'Gangoh', 'Gangolli', 'Gangtok', 'Gangākher', 'Gangānagar', 'Gangāpur', 'Gangārāmpur', 'Gangāwati', 'Ganj Murādābād', 'Ganjām', 'Gannavaram', 'Garamur', 'Garautha', 'Garha Brahman', 'Garhdiwāla', 'Garhmuktesar', 'Garhshankar', 'Garhwa', 'Garhākota', 'Gariadhar', 'Gariāband', 'Gauribidanur', 'Gautampura', 'Gawān', 'Gaya', 'Gevrai', 'Ghansor', 'Gharaunda', 'Gharghoda', 'Ghatkesar', 'Ghazīpur', 'Ghiror', 'Gho Brāhmanān de', 'Ghogha', 'Ghorāwal', 'Ghoti Budrukh', 'Ghumārwīn', 'Ghātampur', 'Ghātanji', 'Ghātsīla', 'Ghātāl', 'Giddalūr', 'Giddarbāha', 'Gobichettipalayam', 'Gobindpur', 'Godda', 'Godhra', 'Gogāpur', 'Gohadi', 'Gohāna', 'Gohānd', 'Gokak', 'Gokarna', 'Gokavaram', 'Gokul', 'Gola Gokarannāth', 'Golāghāt', 'Gondal', 'Gondiā', 'Gondā City', 'Gopālganj', 'Gopālpur', 'Gopālur', 'Gopāmau', 'Gorakhpur', 'Gorantla', 'Goregaon', 'Goshaingaon', 'Goshāinganj', 'Goshāīnganj', 'Gosāba', 'Govindapuram', 'Govindgarh', 'Goyerkāta', 'Greater Noida', 'Gubbi', 'Gudalur', 'Gudivāda', 'Gudlavalleru', 'Gudāri', 'Guhāgar', 'Guledagudda', 'Gulābpura', 'Gumia', 'Gumlā', 'Gummidipundi', 'Guna', 'Gundlupēt', 'Gunnaur', 'Guntakal Junction', 'Guntur', 'Gunupur', 'Gurdaha', 'Gurgaon', 'Gurh', 'Gurmatkāl', 'Guru Har Sahāi', 'Guskhara', 'Gwalior', 'Gyalshing', 'Gyānpur', 'Gādarwāra', 'Gāndarbal', 'Gāndhī Nagar', 'Gīdam', 'Gīrīdīh', 'Gūdūr', 'Hadagalli', 'Hadgāon', 'Hailākāndi', 'Haldaur', 'Haldia', 'Haldwani', 'Haldībāri', 'Haliyal', 'Halvad', 'Hampi', 'Hamren', 'Hamīrpur', 'Handiā', 'Hansot', 'Hanumāngarh', 'Haraiya', 'Harda Khās', 'Haridwar', 'Harihar', 'Harina Pashdal Bar', 'Harnai', 'Harpanahalli', 'Harpālpur', 'Harrai', 'Harsūd', 'Harūr', 'Hasanpur', 'Hassan', 'Hatsingimari', 'Hatta', 'Hawai', 'Hayuliang', 'Hazāribāgh', 'Heggadadevankote', 'Hesla', 'Hilsa', 'Himatnagar', 'Hindaun', 'Hindoria', 'Hindupur', 'Hinganghāt', 'Hingoli', 'Hinjilikatu', 'Hirekerūr', 'Hiriyūr', 'Hirānagar', 'Hisar', 'Hisuā', 'Hnahthial', 'Hojāi', 'Holalkere', 'Hole Narsipur', 'Homnābād', 'Honavar', 'Honnāli', 'Hosakote', 'Hosanagara', 'Hosangadi', 'Hosdurga', 'Hoshiārpur', 'Hoskote', 'Hosūr', 'Hubli', 'Hungund', 'Hunsūr', 'Husainābād', 'Hāflong', 'Hājipur', 'Hājo', 'Hājīpur', 'Hālol', 'Hāngal', 'Hānsi', 'Hāpur', 'Hārij', 'Hāsimāra', 'Hātod', 'Hātā', 'Ichchāpuram', 'Ichhāwar', 'Idukki', 'Igatpuri', 'Iglās', 'Iklehra', 'Ilkal', 'Iluppūr', 'Imphāl', 'Indergarh', 'Indi', 'Indore', 'Indāpur', 'Ingrāj Bāzār', 'Injambakkam', 'Iringal', 'Islāmnagar', 'Islāmpur', 'Isāgarh', 'Itaunja', 'Itānagar', 'Itārsi', 'Iāwar', 'Jagalūr', 'Jagannāthpur', 'Jagatsinghapur', 'Jagdalpur', 'Jagdīspur', 'Jaggayyapeta', 'Jagnair', 'Jagraon', 'Jagtiāl', 'Jahāngīrpur', 'Jahānābād', 'Jahāzpur', 'Jainagar', 'Jaipur', 'Jais', 'Jaisalmer', 'Jaisinghnagar', 'Jaisingpur', 'Jaithāri', 'Jaito', 'Jaitāran', 'Jalalpore', 'Jalandhar', 'Jalesar', 'Jaleshwar', 'Jalgaon', 'Jalgaon Jamod', 'Jalor', 'Jalpāiguri', 'Jalālpur', 'Jalālābād', 'Jalālī', 'Jambusar', 'Jamkhandi', 'Jammalamadugu', 'Jammu', 'Jamālpur', 'Jamūī', 'Jandiāla Gurū', 'Jangaon', 'Jangipur', 'Jaorā', 'Jarwal', 'Jasdan', 'Jashpurnagar', 'Jasidih', 'Jaspur', 'Jasrāsar', 'Jatāra', 'Jauriān', 'Jawhār', 'Jayamkondacholapuram', 'Jaynagar Majilpur', 'Jejūri', 'Jetpur', 'Jevargi', 'Jeypore', 'Jhajjar', 'Jhalidā', 'Jhanjhārpur', 'Jharsuguda', 'Jhinjhāna', 'Jhulasan', 'Jhumri Telaiya', 'Jhunjhunūn', 'Jhā-Jhā', 'Jhābua', 'Jhālrapātan', 'Jhānsi', 'Jhārgrām', 'Jhīnjhak', 'Jintūr', 'Jiribam', 'Jobat', 'Jobner', 'Jodhpur', 'Jodiya Bandar', 'Jogindarnagar', 'Jora', 'Jorhāt', 'Joshīmath', 'Jubbal', 'Jugsālai', 'Junnar', 'Jājpur', 'Jākhal', 'Jālna', 'Jāmtāra', 'Jīnd', 'Jūnāgadh', 'Jūnāgarh', 'Kabrāi', 'Kachhwa', 'Kadakkavoor', 'Kadambūr', 'Kadaura', 'Kadi', 'Kadiri', 'Kadmat', 'Kadod', 'Kadūr', 'Kagaznāgār', 'Kailāras', 'Kailāshahar', 'Kaintragarh', 'Kaithal', 'Kakching', 'Kakdwip', 'Kakrāla', 'Kalaburagi', 'Kalakkādu', 'Kalamnūri', 'Kalas', 'Kalavai', 'Kalaīkunda', 'Kalghatgi', 'Kalimpong, Крукети', 'Kallakkurichchi', 'Kalmeshwar', 'Kalpatta', 'Kalpeni', 'Kalyandurg', 'Kamalganj', 'Kamalpur', 'Kamjong', 'Kamuthi', 'Kanadukattan', 'Kanayannur', 'Kandukūr', 'Kangayam', 'Kanigiri', 'Kankauli', 'Kannad', 'Kannauj', 'Kannavam', 'Kanniyākumāri', 'Kannod', 'Kannur', 'Kantilo', 'Kantābānji', 'Kanuru', 'Kapadvanj', 'Karanpur', 'Karauli', 'Kareli', 'Karera', 'Kargil', 'Karhal', 'Kariapatti', 'Karmāla', 'Karnāl', 'Karrāpur', 'Karur', 'Karwar', 'Karīmganj', 'Karīmnagar', 'Karīmpur', 'Kasba', 'Kashipur', 'Kasrāwad', 'Katangi', 'Katghora', 'Kathua', 'Katihar', 'Katpur', 'Katra', 'Kattivākkam', 'Kavalūr', 'Kavaratti', 'Kawardha', 'Kawānt', 'Kayattār', 'Keelakarai', 'Kekri', 'Kenda', 'Kendrāparha', 'Kerūr', 'Kesabpur', 'Keshod', 'Keshorai Pātan', 'Kesinga', 'Khada', 'Khagaria', 'Khagaul', 'Khair', 'Khairābād', 'Khairāgarh', 'Khajuraho Group of Monuments', 'Khalīlābād', 'Khambhāliya', 'Khambhāt', 'Khamharia', 'Khammam', 'Khandwa', 'Khanna', 'Khanpur', 'Kharagpur', 'Kharakvasla', 'Kharar', 'Kharela', 'Khargone', 'Khargupur', 'Khargāpur', 'Kharhiāl', 'Kharod', 'Kharsia', 'Kharsāwān', 'Khatauli', 'Khawhai', 'Khawzawl', 'Khed', 'Kheda', 'Khedbrahma', 'Khem Karan', 'Kheri Sāmpla', 'Kherālu', 'Khetia', 'Khetri', 'Khilchipur', 'Khirkiyān', 'Khliehriat', 'Khonsa', 'Khopoli', 'Khowai', 'Khujner', 'Khuldābād', 'Khunti', 'Khurai', 'Khurda', 'Khāchrod', 'Khāga', 'Khāmgaon', 'Khānpur', 'Khāpa', 'Khārupatia', 'Khātegaon', 'Khātra', 'Kichha', 'Kiltan', 'Kilvelur', 'Kinwat', 'Kirandul', 'Kiri Buru', 'Kirākat', 'Kishanganj', 'Kishangarh', 'Kishanpur', 'Kishni', 'Kishtwār', 'Koch Bihār', 'Kodaikānāl', 'Kodala', 'Kodarmā', 'Kodoli', 'Kodungallūr', 'Kodār', 'Kodīnar', 'Koelwār', 'Kohīma', 'Kokrajhar', 'Kolasib', 'Kolhāpur', 'Kollam', 'Kollegāl', 'Kolāras', 'Konch', 'Kondagaon', 'Kondapalle', 'Konnūr', 'Konārka', 'Koonimedu', 'Koppal', 'Kopāganj', 'Koradāchcheri', 'Korampallam', 'Koratagere', 'Koratla', 'Korba', 'Koregaon', 'Korukollu', 'Korwai', 'Korāput', 'Kosamba', 'Kosigi', 'Kota', 'Kotagiri', 'Kotamangalam', 'Kotapārh', 'Kotdwāra', 'Kothi', 'Kothāpet', 'Kotkapura', 'Kotkhai', 'Kotla', 'Kotma', 'Kotputli', 'Kotra', 'Kottagūdem', 'Kottapalli', 'Kottūru', 'Kotwa', 'Kotā', 'Kotār', 'Kovalam', 'Kovvūr', 'Kovūr', 'Koynanagar', 'Kozhikode', 'Krishnagiri', 'Krishnanagar', 'Krishnarājpet', 'Kuchaiburi', 'Kuchera', 'Kuchinda', 'Kuchāman', 'Kudāl', 'Kuju', 'Kukshi', 'Kulattūr', 'Kulgam', 'Kulpahār', 'Kulu', 'Kumarapalayam', 'Kumbhrāj', 'Kumhāri', 'Kumta', 'Kunda', 'Kundarkhi', 'Kundgol', 'Kundla', 'Kunigal', 'Kunnattūr', 'Kunnumma', 'Kuppam', 'Kupwāra', 'Kurduvādi', 'Kurinjippādi', 'Kurnool', 'Kurud', 'Kurāra', 'Kushtagi', 'Kushālgarh', 'Kushālnagar', 'Kutiyāna', 'Kuttampuzha', 'Kuttālam', 'Kuzhithurai', 'Kyelang', 'Kādīpur', 'Kāgal', 'Kākināda', 'Kālikāpur', 'Kāliyāganj', 'Kālna', 'Kālādhūngi', 'Kālāgarh Project Colony', 'Kālānwāli', 'Kālāvad', 'Kālīnagar', 'Kāmalāpuram', 'Kāman', 'Kāmthi', 'Kāmākhyānagar', 'Kāmāreddi', 'Kāndhla', 'Kāndi', 'Kāndla', 'Kāndri', 'Kāngpokpi', 'Kānke', 'Kānker', 'Kānkānhalli', 'Kānnangād', 'Kānodar', 'Kānor', 'Kānt', 'Kānth', 'Kāpren', 'Kāraikkudi', 'Kāramadai', 'Kāranja', 'Kārkala', 'Kāsaragod', 'Kāthor', 'Kāti', 'Kātol', 'Kātoya', 'Kāttupputtūr', 'Kāvali', 'Kīratpur', 'Kūd', 'Kūdligi', 'Lakhipur', 'Lakhnādon', 'Lakhtar', 'Lakhīmpur', 'Laksar', 'Lakshettipet', 'Lakshmeshwar', 'Lalganj', 'Lalgudi', 'Lalitpur', 'Lansdowne', 'Lar', 'Latur', 'Laungowāl', 'Leh', 'Lemmi', 'Leteri', 'Limbdi', 'Lingsugūr', 'Lodhīkheda', 'Lohaghāt', 'Lohogaon', 'Lohārdagā', 'Lohāru', 'Lonavla', 'Londa', 'Longleng', 'Loni', 'Lormi', 'Losal', 'Luckeesarai', 'Lumding Railway Colony', 'Lunglei', 'Lādnūn', 'Lādwa', 'Lāharpur', 'Lākheri', 'Lāla', 'Lālam', 'Lālganj', 'Lālgola', 'Lālpur', 'Lālsot', 'Lānja', 'Lāsalgaon', 'Lātehār', 'Lūnāvāda', 'Machhlīshahr', 'Machilīpatnam', 'Madanapalle', 'Madanpur', 'Maddūr', 'Madhavkampa', 'Madhipura', 'Madhogarh', 'Madhubani', 'Madhugiri', 'Madhupur', 'Madikeri', 'Madukkūr', 'Madurāntakam', 'Maham', 'Mahbūbnagar', 'Mahbūbābād', 'Mahendragarh', 'Maheshtala', 'Mahmudābād', 'Mahobā', 'Maholi', 'Mahroni', 'Mahudha', 'Mahur', 'Mahād', 'Mahālingpur', 'Mahārāganj', 'Mahārājgani', 'Mahārājganj', 'Mahāsamund', 'Mahīshādal', 'Maibong', 'Maihar', 'Mailāni', 'Mainpuri', 'Mairang', 'Mairwa', 'Majalgaon', 'Majholi', 'Majītha', 'Makrāna', 'Maksi', 'Malakanagiri', 'Malappuram', 'Malaut', 'Malhārgarh', 'Malkapur', 'Malkera', 'Malkāpur', 'Mallasamudram', 'Mallāpuram', 'Malpe', 'Malīhābād', 'Mamit', 'Manalūrpettai', 'Manamadurai', 'Manapparai', 'Manavālakurichi', 'Manchar', 'Mandamarri', 'Mandapam', 'Mandapeta', 'Mandasa', 'Mandholi Kalān', 'Mandi', 'Mandideep', 'Mandlā', 'Mandsaur', 'Mandāwar', 'Mangalam', 'Mangaldai', 'Mangan', 'Mangrūl Pīr', 'Maniar', 'Manjeri', 'Manjhanpur', 'Manjēshvar', 'Mankāpur', 'Manmād', 'Mannārakkāt', 'Manohar Thāna', 'Manoharpur', 'Manor', 'Manthani', 'Manuguru', 'Manāli', 'Manāsa', 'Manāwar', 'Marakkanam', 'Marayur', 'Margherita', 'Marhaura', 'Mattanur', 'Mau', 'Mau Aimma', 'Maudaha', 'Mauganj', 'Maur', 'Mav Patoda', 'Mavoor', 'Medak', 'Medinīpur', 'Meerut', 'Meethari Marwar', 'Meghraj', 'Mehndāwal', 'Melur', 'Memāri', 'Mendarda', 'Merta', 'Mettur', 'Mhāsvād', 'Mihona', 'Minicoy', 'Miriālgūda', 'Mirzāpur', 'Misrikh', 'Modāsa', 'Mohanpur', 'Mohiuddinnagar', 'Mohpa', 'Mohān', 'Moirāng', 'Mokokchūng', 'Mon', 'Moram', 'Morbi', 'Morena', 'Morigaon', 'Morinda', 'Mormugao', 'Morsi', 'Morwa', 'Morānha', 'Morār', 'Moth', 'Mothīhāri', 'Mowād', 'Muddebihāl', 'Mudgal', 'Mudgere', 'Mudhol', 'Mudkhed', 'Mudukulattūr', 'Mugma', 'Muhammadābād', 'Mukeriān', 'Mukher', 'Muktsar', 'Mulbāgal', 'Mulgund', 'Multai', 'Mulugu', 'Mumbai', 'Mundargi', 'Mundgod', 'Mundi', 'Mundra', 'Mungaoli', 'Mungeli', 'Munirābād', 'Munnar', 'Murbād', 'Murgūd', 'Muri', 'Murlīganj', 'Murshidābād', 'Murtajāpur', 'Murud', 'Murudeshwara', 'Murwāra', 'Murādnagar', 'Mushalpur', 'Mushābani', 'Musiri', 'Mussoorie', 'Musāfir-Khāna', 'Muttupet', 'Muzaffarnagar', 'Muzaffarpur', 'Mysore', 'Māchalpur', 'Mācherla', 'Mādhoganj', 'Mādhogarh', 'Mādugula', 'Māgadi', 'Māgām', 'Mākhjan', 'Mākum', 'Mālegaon', 'Māler Kotla', 'Mālpura', 'Mālvan', 'Mālūr', 'Māndal', 'Māndalgarh', 'Māndleshwar', 'Māndvi', 'Māngrol', 'Mānikpur', 'Mānpur', 'Mānvi', 'Mānwat', 'Mānāvadar', 'Mārahra', 'Mārkāpur', 'Mārāndahalli', 'Mātherān', 'Māttūr', 'Mātābhānga', 'Māvelikara', 'Māyakonda', 'Mīnjūr', 'Mīrganj', 'Mūdbidri', 'Mūl', 'Mūlanūr', 'Mūlki', 'Mūndwa', 'Nabīnagar', 'Naduvannūr', 'Naduvattam', 'Nadīgaon', 'Nagar', 'Nagpur', 'Nagrota', 'Nagīna', 'Naharlagun', 'Nahorkatiya', 'Naigaon Dattapur', 'Nainpur', 'Nainwa', 'Nakodar', 'Naksalbāri', 'Nakūr', 'Naldurg', 'Nalgonda', 'Nalhāti', 'Naliya', 'Namli', 'Namsai', 'Nanded', 'Nandigāma', 'Nandikotkūr', 'Nandurbar', 'Nandyāl', 'Nangal', 'Nangilickondan', 'Nanguneri', 'Nanjangūd', 'Napāsar', 'Naraina', 'Naraini', 'Narasannapeta', 'Narasapur', 'Narasaraopet', 'Narasimharājapura', 'Narasingāpuram', 'Narauli', 'Naregal', 'Narendranagar', 'Nargund', 'Narharpur', 'Narmadapuram', 'Naroda', 'Narsimhapur', 'Narsinghgarh', 'Narsīpatnam', 'Narwar', 'Narāyangarh', 'Nashik', 'Nasrullāhganj', 'Nasīrābād', 'Natham', 'Naugachhia', 'Nautan', 'Nautanwa', 'Navalgund', 'Navelim', 'Navi Mumbai', 'Navsari', 'Nawalgarh', 'Nawābganj', 'Nawāda', 'Nawānshahr', 'Nayāgarh', 'Naīgarhi', 'Nedumangād', 'Neelankarai', 'Neem ka Thana', 'Neemuch', 'Negapatam', 'Nellore', 'Nepānagar', 'Neral', 'Neturhāt', 'Nichlaul', 'Nilanga', 'Nimāparha', 'Nirmal', 'Nirmāli', 'Niwai', 'Niwāri', 'Nizāmābād', 'Nohar', 'Nokha', 'Nongpoh', 'Nongstoin', 'North Guwāhāti', 'North Lakhimpur', 'North Vanlaiphai', 'Norīa', 'Nowrangapur', 'Noāmundi', 'Numāligarh', 'Nyāmti', 'Nābha', 'Nādaun', 'Nādbai', 'Nādāpuram', 'Nāgamangala', 'Nāgar Karnūl', 'Nāgaur', 'Nāgercoil', 'Nāgireddipalli', 'Nāgod', 'Nāgothana', 'Nāhan', 'Nālāgarh', 'Nāmagiripettai', 'Nāmakkal', 'Nāmrup', 'Nāndgaon', 'Nānpāra', 'Nārnaul', 'Nārnaund', 'Nārsingi', 'Nārāyanavanam', 'Nārāyangarh', 'Nārāyanpet', 'Nāsriganj', 'Nāthdwāra', 'Nāttarasankottai', 'Nāwa', 'Nāyudupet', 'Nāzirā', 'Nīlgiri', 'Nīlēshwar', 'Nīmbāhera', 'Nūh', 'Nūzvīd', 'Obra', 'Odlābāri', 'Odugattūr', 'Okha', 'Olpād', 'Omalur', 'Ongole', 'Ooty', 'Orai', 'Oran', 'Orchha', 'Ottappālam', 'Ozar', 'Pachmarhi', 'Pachperwa', 'Padam', 'Padampur', 'Padra', 'Padrauna', 'Pahlgām', 'Paikpara', 'Paithan', 'Pakur', 'Palani', 'Palera', 'Paliā Kalān', 'Palladam', 'Pallappatti', 'Pallikonda', 'Palmaner', 'Palwal', 'Palwancha', 'Palāsa', 'Palāsbāri', 'Panamaram', 'Panara', 'Pandaria', 'Pandharpur', 'Pandhāna', 'Pangin', 'Panhāla', 'Panna', 'Panruti', 'Panāgar', 'Papanasam', 'Paramathi Velur', 'Parbhani', 'Pariyāpuram', 'Parli Vaijnāth', 'Parlākimidi', 'Parol', 'Parola', 'Partāpur', 'Partūr', 'Parvatsar', 'Parādīp Garh', 'Parāsia', 'Parīchhatgarh', 'Pasān', 'Patancheru', 'Pathalgaon', 'Pathanāmthitta', 'Patharia', 'Pathānkot', 'Patiāli', 'Patnāgarh', 'Patti', 'Pattukkottai', 'Patāmundai', 'Pauri', 'Pawai', 'Pawni', 'Pawāyan', 'Payyannūr', 'Pedda bhogili', 'Peddapalli', 'Pehowa', 'Pen', 'Pendra', 'Pennāgaram', 'Pennāthur', 'Penukonda', 'Peraiyur', 'Perambalur', 'Peranāmpattu', 'Peravurani', 'Periyapatti', 'Periyapattinam', 'Pernem', 'Perūr', 'Petlāwad', 'Phagwāra', 'Phalodi', 'Phaltan', 'Pharihā', 'Phek', 'Pherzawl', 'Phillaur', 'Phirangipuram', 'Phulbāni', 'Phulpur', 'Phusro', 'Pihānī', 'Pilibangan', 'Pilāni', 'Pimpalkhuta', 'Pindwāra', 'Pinjaur', 'Pipili', 'Pippara', 'Pipraich', 'Piro', 'Pirāwa', 'Pithampur', 'Pithora', 'Pithorāgarh', 'Pithāpuram', 'Podaturpet', 'Pokaran', 'Polavaram', 'Pollachi', 'Polūr', 'Ponmana', 'Ponnamarāvati', 'Ponnampet', 'Ponnāni', 'Ponnūru', 'Porbandar', 'Porsa', 'Port Blair', 'Pratāpgarh', 'Prayagraj', 'Proddatūr', 'Puducherry', 'Pudūr', 'Pukhrāyān', 'Pulgaon', 'Pulivendla', 'Pullambādi', 'Punalūr', 'Punganūru', 'Punāsa', 'Pupri', 'Puri', 'Purnia', 'Puruliya', 'Purwā', 'Pusad', 'Pushkar', 'Puttaparthi', 'Puttūr', 'Pāchora', 'Pālakollu', 'Pālampur', 'Pālanpur', 'Pāli', 'Pālitāna', 'Pāliyād', 'Pālkonda', 'Pāloncha', 'Pānchgani', 'Pāndhurnā', 'Pāndātarai', 'Pāngāla', 'Pānsemāl', 'Pāonta Sāhib', 'Pāppārappatti', 'Pārdi', 'Pārvatipuram', 'Pārīchha', 'Pāsighāt', 'Pātan', 'Pāthardi', 'Pātrasāer', 'Pātuli', 'Pātūr', 'Pāvugada', 'Pīpalkoti', 'Pīpri', 'Pīpār', 'Pūnch', 'Pūndri', 'Pūnāhāna', 'Pūranpur', 'Pūrna', 'Quthbullapur', 'Rabūpura', 'Raebareli', 'Rafiganj', 'Raga', 'Raghunāthpur', 'Rahimatpur', 'Rahā', 'Raigarh', 'Raipur', 'Raisen', 'Rajaori', 'Rajapalaiyam', 'Rajpur', 'Rajpur Sonarpur', 'Ramagundam', 'Ramanathapuram', 'Rambha', 'Rameswaram', 'Rampachodavaram', 'Rampur Hat', 'Ranchi', 'Rangia', 'Rangāpāra', 'Rasrā', 'Rasūlābād', 'Ratangarh', 'Ratanpur', 'Ratia', 'Ratlām', 'Ratnagiri', 'Raxaul', 'Raybag', 'Reddivaripalle', 'Rehli', 'Rehti', 'Remuna', 'Rengāli', 'Renigunta', 'Renukūt', 'Repalle', 'Resubelpara', 'Revadanda', 'Revelganj', 'Rewa', 'Rewāri', 'Risod', 'Riāsi', 'Robertsganj', 'Robertsonpet', 'Roha', 'Rohru', 'Rohtak', 'Ron', 'Ropar', 'Rourkela', 'Rudraprayāg', 'Rura', 'Rusera', 'Rādhanpur', 'Rādhākund', 'Rāghogarh', 'Rāhatgarh', 'Rāhon', 'Rāhuri', 'Rāichūr', 'Rāikot', 'Rāisinghnagar', 'Rāj-Nāndgaon', 'Rāja Sānsi', 'Rājaldesar', 'Rājgarh', 'Rājgīr', 'Rājkot', 'Rājmahal', 'Rājnagar', 'Rājpura', 'Rājpīpla', 'Rājsamand', 'Rājula', 'Rājur', 'Rājāpur', 'Rājūra', 'Rāmachandrapuram', 'Rāmamangalam', 'Rāmban', 'Rāmgarh', 'Rāmnagar', 'Rāmpur', 'Rāmpura', 'Rāmtek', 'Rāmānuj Ganj', 'Rāmāpuram', 'Rāni', 'Rānia', 'Rānāvāv', 'Rānībennur', 'Rānīganj', 'Rānīpur', 'Rānīr Bāzār', 'Rāpar', 'Rāth', 'Rāver', 'Rāwatbhāta', 'Rāwatsār', 'Rāy', 'Rāyachoti', 'Rāyadrug', 'Rāzampeta', 'Rāzole', 'Rāzām', 'Rāīwāla Bara', 'Rīngas', 'Rūdarpur', 'S. Rayavaram', 'Sabalgarh', 'Sabrūm', 'Sabāthu', 'Sadalgi', 'Sadashivpet', 'Sadābād', 'Safidon', 'Sagauli', 'Sahaswān', 'Sahāranpur', 'Saidpur', 'Saiha', 'Sailāna', 'Sainthia', 'Sairang', 'Saitual', 'Sakleshpur', 'Saktī', 'Sakīt', 'Salem', 'Salon', 'Salāya', 'Sambalpur', 'Sambhaji Nagar', 'Sambhal', 'Samdari', 'Samālkha', 'Samāstipur', 'Sanaur', 'Sandīla', 'Sandūr', 'Sangamner', 'Sangariā', 'Sangod', 'Sanguem', 'Sanivārsante', 'Sankeshwar', 'Sankheda', 'Sanāwad', 'Sapatgrām', 'Saraipali', 'Sardulgarh', 'Sardārshahr', 'Sargūr', 'Sarka Ghāt', 'Sarkhej', 'Sarupathar', 'Sarwār', 'Sarāhan', 'Sarāi Ākil', 'Sarīla', 'Satara', 'Sathupalli', 'Sathyamangalam', 'Satna', 'Sattenapalle', 'Satwās', 'Satānā', 'Saugor', 'Saundatti', 'Saurikh', 'Sausar', 'Savarkundla', 'Sawāi Mādhopur', 'Seethanagaram', 'Sehore', 'Selu', 'Sendhwa', 'Seoni', 'Seoni Mālwa', 'Seorīnārāyan', 'Seram', 'Seven Pagodas', 'Shahdol', 'Shahmīrpet', 'Shamsābād', 'Shankargarh', 'Shegaon', 'Sheoganj', 'Sheohar', 'Sheopur', 'Sherghāti', 'Shi Yomi', 'Shiggaon', 'Shikohābād', 'Shikārpur', 'Shikārpūr', 'Shillong', 'Shimla', 'Shimoga', 'Shiraguppi', 'Shirdi', 'Shirgaon', 'Shirpur', 'Shivpuri', 'Shivrājpur', 'Sholapur', 'Sholinghur', 'Shorāpur', 'Shrīgonda', 'Shujālpur', 'Shupīyan', 'Shādīpur Julāna', 'Shāhganj', 'Shāhgarh', 'Shāhkot', 'Shāhpur', 'Shāhpura', 'Shāhābād', 'Shāhāda', 'Shāhāpur', 'Shājāpur', 'Shām Churāsi', 'Shāmgarh', 'Shāntipur', 'Shīshgarh', 'Shōranūr', 'Sibsāgar', 'Siddhapur', 'Siddipet', 'Siddāpur', 'Sidhaulī', 'Sidhi', 'Sihor', 'Sihorā', 'Sikandarpur', 'Sikandarābād', 'Sikandra', 'Sikka', 'Silapathar', 'Silchar', 'Siliguri', 'Sillod', 'Silvassa', 'Simaria', 'Simdega', 'Simga', 'Sindgi', 'Sindhnūr', 'Sindi', 'Singapperumālkovil', 'Singarāyakonda', 'Singoli', 'Singrauli', 'Singtam', 'Singānallūr', 'Sini', 'Sinnar', 'Sinor', 'Sirohi', 'Sironj', 'Sirpur', 'Sirsa', 'Sirsi', 'Sirsilla', 'Sirsā', 'Sirsāganj', 'Siruguppa', 'Sirāthu', 'Sirūr', 'Sisauli', 'Sitārganj', 'Siuri', 'Sivagiri', 'Sivakasi', 'Siwāna', 'Sohāgi', 'Sohāgpur', 'Sojat', 'Sojītra', 'Someshwar', 'Sompeta', 'Sonegaon', 'Sonepur', 'Songadh', 'Sonāmura', 'Sonāri', 'Sonīpat', 'Sopur', 'Sorab', 'Sorada', 'Soro', 'Soygaon', 'Soyībug', 'Sri Dūngargarh', 'Sri Mādhopur', 'Srikakulam', 'Sringeri', 'Srirāmpur', 'Srāvana Belgola', 'Srīnagar', 'Srīnivāspur', 'Srīperumbūdūr', 'Srīrāmnagar', 'Srīsailain', 'Srīvardhan', 'Sukma', 'Sultanpur', 'Sultānpur', 'Sulya', 'Sundargarh', 'Sundarnagar', 'Sunel', 'Sunām', 'Surajpur', 'Surat', 'Surendranagar', 'Surgāna', 'Suriānwān', 'Suriāpet', 'Susner', 'Sādri', 'Sādāt', 'Sāgar', 'Sāhibganj', 'Sālūmbar', 'Sālūr', 'Sāmbhar', 'Sānand', 'Sānchi', 'Sānchor', 'Sāndi', 'Sāngola', 'Sānwer', 'Sārangarh', 'Sārangpur', 'Sāsvad', 'Sāvantvādi', 'Sāyalkudi', 'Sāyla', 'Sīkar', 'Sīra', 'Sīrkāzhi', 'Sītāmau', 'Sūjāngarh', 'Sūlūru', 'Sūrajgarh', 'Sūrandai', 'Sūratgarh', 'Takhatgarh', 'Talen', 'Talipparamba', 'Talni', 'Taloda', 'Talāja', 'Tamlūk', 'Tankāra', 'Tanuku', 'Tarabha', 'Tarakeswar', 'Tarikere', 'Tarāna', 'Tato', 'Tawang', 'Tehri', 'Tekanpur', 'Tekkalakote', 'Tekkali', 'Tekāri', 'Telhāra', 'Tellicherry', 'Tendūkheda', 'Tengnoupal', 'Teni', 'Teonthar', 'Terdāl', 'Tezpur', 'Tezu', 'Thandla', 'Thang', 'Thanna Mandi', 'Tharangambadi', 'Tharād', 'Thenzawl', 'Thiruthani', 'Thiruvananthapuram', 'Thoothukudi', 'Thrissur', 'Thākurganj', 'Thān', 'Thāne', 'Thānesar', 'Thāsra', 'Tijāra', 'Tikaitnagar', 'Tilhar', 'Tindivanam', 'Tindwāri', 'Tinnanūr', 'Tiptūr', 'Tirodi', 'Tiruchchendur', 'Tiruchirappalli', 'Tirukkoyilur', 'Tirumakūdal Narsipur', 'Tirumala', 'Tirumullaivāsal', 'Tirunelveli', 'Tirupattur', 'Tiruppuvanam', 'Tiruppālaikudi', 'Tiruvannāmalai', 'Tiruvottiyūr', 'Tisaiyanvilai', 'Titlāgarh', 'Titābar', 'Todabhim', 'Todaraisingh', 'Tohāna', 'Tondi', 'Tonk', 'Topchānchi', 'Tori-Fatehpur', 'Toshām', 'Trimbak', 'Tuensang', 'Tufānganj', 'Tuljāpur', 'Tulsīpur', 'Tumkūr', 'Tuni', 'Tura', 'Turuvekere', 'Tādepallegūdem', 'Tādpatri', 'Tāki', 'Tāl', 'Tālbahat', 'Tālcher', 'Tālīkota', 'Tānda', 'Tāndā', 'Tāndūr', 'Tāoru', 'Tārānagar', 'Tārāpur', 'Tāsgaon', 'Tīkamgarh', 'Tīrthahalli', 'Tūndla', 'Udaipur', 'Udaipura', 'Udalguri', 'Udangudi', 'Udayagiri', 'Udgīr', 'Udpura', 'Ujhāni', 'Ujjain', 'Uklāna', 'Ukwā', 'Ullal', 'Umarga', 'Umaria', 'Umarkhed', 'Umarkot', 'Umred', 'Umri', 'Umrāla', 'Un', 'Una', 'Unhel', 'Uniāra', 'Unnāo', 'Upleta', 'Uppiliyapuram', 'Uravakonda', 'Uri', 'Usehat', 'Usilampatti', 'Utraula', 'Uttarkāshi', 'Uttiramerūr', 'Vadakku Viravanallur', 'Vadamadurai', 'Vadlapūdi', 'Vadnagar', 'Vadodara', 'Vaijāpur', 'Vaikam', 'Valabhīpur', 'Vallam', 'Valparai', 'Valpoy', 'Vaniyambadi', 'Varangaon', 'Varkala', 'Vattalkundu', 'Vayalār', 'Vedaraniyam', 'Vedasandūr', 'Vejalpur', 'Vemalwāda', 'Vengurla', 'Venkatagiri', 'Vepagunta', 'Verāval', 'Vetapālem', 'Vettaikkaranpudur', 'Vettūr', 'Vidisha', 'Vijayapuri', 'Vijāpur', 'Vikravāndi', 'Vikārābād', 'Vikāsnagar', 'Vinchia', 'Vinukonda', 'Virajpet', 'Virpur', 'Virudunagar', 'Virār', 'Visnagar', 'Vite', 'Vizianagaram', 'Vriddhāchalam', 'Vuyyūru', 'Vyāra', 'Vāda', 'Vādippatti', 'Vānsada', 'Vāsudevanallūr', 'Vīraganūr', 'Vīsāvadar', 'Waghāi', 'Wai', 'Wani', 'Wanparti', 'Warangal', 'Wardha', 'Warora', 'Warud', 'Wazīrganj', 'Weir', 'Williamnagar', 'Wokha', 'Wādi', 'Wānkāner', 'Wāris Alīganj', 'Wārāseonī', 'Wāshīm', 'Yairipok', 'Yanam', 'Yavatmāl', 'Yelandūr', 'Yelbarga', 'Yellandu', 'Yellāpur', 'Yeola', 'Yādgīr', 'Yārāda', 'Yāval', 'Zafarābād', 'Zahirābād', 'Zaidpur', 'Zamānia', 'Zira', 'Ziro', 'Zunheboto', 'patamda', 'Ābu', 'Ābu Road', 'Ādilābād', 'Ādoni', 'Ālangudi', 'Āmbāsa', 'Āmli', 'Āmlāgora', 'Āmta', 'Ārangaon', 'Āron', 'Ārvi', 'Āsandh', 'Āsansol', 'Āsind', 'Āthagarh']\n"
     ]
    }
   ],
   "source": [
    "print(list(india_df0[\"City\"].unique()))\n"
   ]
  }
 ],
 "metadata": {
  "kernelspec": {
   "display_name": "base",
   "language": "python",
   "name": "python3"
  },
  "language_info": {
   "codemirror_mode": {
    "name": "ipython",
    "version": 3
   },
   "file_extension": ".py",
   "mimetype": "text/x-python",
   "name": "python",
   "nbconvert_exporter": "python",
   "pygments_lexer": "ipython3",
   "version": "3.9.9"
  }
 },
 "nbformat": 4,
 "nbformat_minor": 5
}
